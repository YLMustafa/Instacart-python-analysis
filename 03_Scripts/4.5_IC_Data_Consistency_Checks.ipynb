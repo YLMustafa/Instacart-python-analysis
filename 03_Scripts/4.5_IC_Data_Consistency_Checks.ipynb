{
 "cells": [
  {
   "cell_type": "markdown",
   "id": "3380fb95-10ed-4994-b227-1b9b07a58e17",
   "metadata": {},
   "source": [
    "# 4.5 IC Data Consistency Checks"
   ]
  },
  {
   "cell_type": "markdown",
   "id": "9ca1b8bc-ea04-4409-8753-55fb41432e29",
   "metadata": {},
   "source": [
    "## Contents:"
   ]
  },
  {
   "cell_type": "markdown",
   "id": "8aff52ed-a5df-4885-9f58-6ccb33957a1b",
   "metadata": {},
   "source": [
    "## Exercise"
   ]
  },
  {
   "cell_type": "markdown",
   "id": "62722582-26e7-418a-b2a0-c6230d508936",
   "metadata": {},
   "source": [
    "### 01. Importing Libraries"
   ]
  },
  {
   "cell_type": "markdown",
   "id": "73df18ac-5741-4980-a442-4a3c2abdfb02",
   "metadata": {},
   "source": [
    "### 02. Importing Data"
   ]
  },
  {
   "cell_type": "markdown",
   "id": "924fc7a0-3098-4edf-8aad-5be70025faa1",
   "metadata": {},
   "source": [
    "### 03. Mixed-Type Data"
   ]
  },
  {
   "cell_type": "markdown",
   "id": "1554c195-8a56-43fb-aaee-2d274cf0580a",
   "metadata": {},
   "source": [
    "### 04. Missing Values"
   ]
  },
  {
   "cell_type": "markdown",
   "id": "10a831a3-3ef6-411c-8a2a-5d9ee7b40e73",
   "metadata": {},
   "source": [
    "### 05. Duplicates"
   ]
  },
  {
   "cell_type": "markdown",
   "id": "6d13bed3-b143-4abc-acd4-76e7a58f49a7",
   "metadata": {},
   "source": [
    "## Task"
   ]
  },
  {
   "cell_type": "markdown",
   "id": "21f24dd3-dbd0-4fbf-af14-37761a198f74",
   "metadata": {},
   "source": [
    "### 06. Mixed-Type Data"
   ]
  },
  {
   "cell_type": "markdown",
   "id": "48fe4bac-1d8e-4aa9-a08a-6d1c66eebac8",
   "metadata": {},
   "source": [
    "### 07. Missing Values"
   ]
  },
  {
   "cell_type": "markdown",
   "id": "a990cea6-d468-4362-a55e-623691eb7393",
   "metadata": {},
   "source": [
    "### 08. Duplicates"
   ]
  },
  {
   "cell_type": "markdown",
   "id": "18880965-ffb1-4976-b658-b15d51c6db45",
   "metadata": {},
   "source": [
    "#### 01. Importing Libraries"
   ]
  },
  {
   "cell_type": "code",
   "execution_count": 289,
   "id": "309887a3-3241-4088-9801-0f9c0e67ab78",
   "metadata": {},
   "outputs": [],
   "source": [
    "# Immport libraries \n",
    "import pandas as pd\n",
    "import numpy as np\n",
    "import os"
   ]
  },
  {
   "cell_type": "markdown",
   "id": "0f59e314-3c95-4db7-a8bd-803a5d3d7555",
   "metadata": {},
   "source": [
    "#### 02. Importing Data"
   ]
  },
  {
   "cell_type": "code",
   "execution_count": 290,
   "id": "389f8d0e-9328-47e0-9573-59494d0d4e91",
   "metadata": {},
   "outputs": [],
   "source": [
    "# setting up path\n",
    "path = r'/Users/yaseminmustafa/Desktop/CareerFoundry/Exercise 4/15-05-2025_Instacart Basket Analysis'"
   ]
  },
  {
   "cell_type": "code",
   "execution_count": 291,
   "id": "432d6ac5-050a-480c-a14a-86426ee96b57",
   "metadata": {},
   "outputs": [
    {
     "data": {
      "text/plain": [
       "'/Users/yaseminmustafa/Desktop/CareerFoundry/Exercise 4/15-05-2025_Instacart Basket Analysis'"
      ]
     },
     "execution_count": 291,
     "metadata": {},
     "output_type": "execute_result"
    }
   ],
   "source": [
    "path"
   ]
  },
  {
   "cell_type": "code",
   "execution_count": 292,
   "id": "c6489f0f-5fd3-454f-8641-997532ea63ce",
   "metadata": {},
   "outputs": [],
   "source": [
    "# Importing products dataframe\n",
    "df_prods = pd.read_csv(os.path.join(path,\"02_Data/Original Data/products.csv\"), index_col = False)"
   ]
  },
  {
   "cell_type": "code",
   "execution_count": 293,
   "id": "19fc21ce-35af-444a-8de5-9d04287d2a10",
   "metadata": {},
   "outputs": [],
   "source": [
    "# Importing wrangled orders\n",
    "df_ords = pd.read_csv(os.path.join(path,\"02_Data/Prepared Data/orders_wrangled.csv\"), index_col = False)"
   ]
  },
  {
   "cell_type": "markdown",
   "id": "b7d77e6c-a4a8-4c28-9c44-20ab9cd0ab62",
   "metadata": {},
   "source": [
    "#### 03. Mixed-Type Data"
   ]
  },
  {
   "cell_type": "code",
   "execution_count": 294,
   "id": "813a25ed-16b5-4687-b24e-277a87270b1d",
   "metadata": {},
   "outputs": [],
   "source": [
    "# Create a dataframe \n",
    "df_test = pd.DataFrame()"
   ]
  },
  {
   "cell_type": "code",
   "execution_count": 295,
   "id": "8253ba40-a556-44db-8c45-57180b144828",
   "metadata": {},
   "outputs": [],
   "source": [
    "# Create a mixed type column\n",
    "df_test['mix'] = ['a', 'b', 1, True]"
   ]
  },
  {
   "cell_type": "code",
   "execution_count": 296,
   "id": "6368030e-94dc-468a-a3c6-bd152a790db5",
   "metadata": {},
   "outputs": [
    {
     "data": {
      "text/html": [
       "<div>\n",
       "<style scoped>\n",
       "    .dataframe tbody tr th:only-of-type {\n",
       "        vertical-align: middle;\n",
       "    }\n",
       "\n",
       "    .dataframe tbody tr th {\n",
       "        vertical-align: top;\n",
       "    }\n",
       "\n",
       "    .dataframe thead th {\n",
       "        text-align: right;\n",
       "    }\n",
       "</style>\n",
       "<table border=\"1\" class=\"dataframe\">\n",
       "  <thead>\n",
       "    <tr style=\"text-align: right;\">\n",
       "      <th></th>\n",
       "      <th>mix</th>\n",
       "    </tr>\n",
       "  </thead>\n",
       "  <tbody>\n",
       "    <tr>\n",
       "      <th>0</th>\n",
       "      <td>a</td>\n",
       "    </tr>\n",
       "    <tr>\n",
       "      <th>1</th>\n",
       "      <td>b</td>\n",
       "    </tr>\n",
       "    <tr>\n",
       "      <th>2</th>\n",
       "      <td>1</td>\n",
       "    </tr>\n",
       "    <tr>\n",
       "      <th>3</th>\n",
       "      <td>True</td>\n",
       "    </tr>\n",
       "  </tbody>\n",
       "</table>\n",
       "</div>"
      ],
      "text/plain": [
       "    mix\n",
       "0     a\n",
       "1     b\n",
       "2     1\n",
       "3  True"
      ]
     },
     "execution_count": 296,
     "metadata": {},
     "output_type": "execute_result"
    }
   ],
   "source": [
    "df_test.head()"
   ]
  },
  {
   "cell_type": "code",
   "execution_count": 297,
   "id": "50dc0e31-ed6b-4274-946e-660e7f924421",
   "metadata": {},
   "outputs": [
    {
     "name": "stdout",
     "output_type": "stream",
     "text": [
      "mix\n"
     ]
    }
   ],
   "source": [
    "# Check for mixed types \n",
    "for col in df_test.columns.tolist():\n",
    "  weird = (df_test[[col]].map(type) != df_test[[col]].iloc[0].apply(type)).any(axis = 1)\n",
    "  if len (df_test[weird]) > 0:\n",
    "    print (col)"
   ]
  },
  {
   "cell_type": "code",
   "execution_count": 298,
   "id": "e945a2fd-4498-43fa-b0a0-3f7e780c625c",
   "metadata": {},
   "outputs": [],
   "source": [
    "# Converting a columns data from numeric to string\n",
    "df_test['mix'] = df_test['mix'].astype('str')"
   ]
  },
  {
   "cell_type": "markdown",
   "id": "a478d848-b94a-46c4-b395-5431fa3b9a74",
   "metadata": {},
   "source": [
    "#### 04. Missing Values"
   ]
  },
  {
   "cell_type": "code",
   "execution_count": 299,
   "id": "cb212dcd-ad1e-4a8c-8f5d-e207703ea104",
   "metadata": {},
   "outputs": [
    {
     "data": {
      "text/plain": [
       "product_id        0\n",
       "product_name     16\n",
       "aisle_id          0\n",
       "department_id     0\n",
       "prices            0\n",
       "dtype: int64"
      ]
     },
     "execution_count": 299,
     "metadata": {},
     "output_type": "execute_result"
    }
   ],
   "source": [
    "# Finding missing values inf products dataframe\n",
    "df_prods.isnull().sum()"
   ]
  },
  {
   "cell_type": "code",
   "execution_count": 300,
   "id": "c1c15641-edee-4fc4-8997-7b3cb1d6e796",
   "metadata": {},
   "outputs": [],
   "source": [
    "# View these 16 values \n",
    "df_nan = df_prods[df_prods['product_name'].isnull() == True]"
   ]
  },
  {
   "cell_type": "code",
   "execution_count": 301,
   "id": "4654cec4-0f9b-4d10-a375-5dd362ebef8a",
   "metadata": {},
   "outputs": [
    {
     "data": {
      "text/html": [
       "<div>\n",
       "<style scoped>\n",
       "    .dataframe tbody tr th:only-of-type {\n",
       "        vertical-align: middle;\n",
       "    }\n",
       "\n",
       "    .dataframe tbody tr th {\n",
       "        vertical-align: top;\n",
       "    }\n",
       "\n",
       "    .dataframe thead th {\n",
       "        text-align: right;\n",
       "    }\n",
       "</style>\n",
       "<table border=\"1\" class=\"dataframe\">\n",
       "  <thead>\n",
       "    <tr style=\"text-align: right;\">\n",
       "      <th></th>\n",
       "      <th>product_id</th>\n",
       "      <th>product_name</th>\n",
       "      <th>aisle_id</th>\n",
       "      <th>department_id</th>\n",
       "      <th>prices</th>\n",
       "    </tr>\n",
       "  </thead>\n",
       "  <tbody>\n",
       "    <tr>\n",
       "      <th>33</th>\n",
       "      <td>34</td>\n",
       "      <td>NaN</td>\n",
       "      <td>121</td>\n",
       "      <td>14</td>\n",
       "      <td>12</td>\n",
       "    </tr>\n",
       "    <tr>\n",
       "      <th>68</th>\n",
       "      <td>69</td>\n",
       "      <td>NaN</td>\n",
       "      <td>26</td>\n",
       "      <td>7</td>\n",
       "      <td>12</td>\n",
       "    </tr>\n",
       "    <tr>\n",
       "      <th>115</th>\n",
       "      <td>116</td>\n",
       "      <td>NaN</td>\n",
       "      <td>93</td>\n",
       "      <td>3</td>\n",
       "      <td>11</td>\n",
       "    </tr>\n",
       "    <tr>\n",
       "      <th>261</th>\n",
       "      <td>262</td>\n",
       "      <td>NaN</td>\n",
       "      <td>110</td>\n",
       "      <td>13</td>\n",
       "      <td>12</td>\n",
       "    </tr>\n",
       "    <tr>\n",
       "      <th>525</th>\n",
       "      <td>525</td>\n",
       "      <td>NaN</td>\n",
       "      <td>109</td>\n",
       "      <td>11</td>\n",
       "      <td>1</td>\n",
       "    </tr>\n",
       "    <tr>\n",
       "      <th>1511</th>\n",
       "      <td>1511</td>\n",
       "      <td>NaN</td>\n",
       "      <td>84</td>\n",
       "      <td>16</td>\n",
       "      <td>14</td>\n",
       "    </tr>\n",
       "    <tr>\n",
       "      <th>1780</th>\n",
       "      <td>1780</td>\n",
       "      <td>NaN</td>\n",
       "      <td>126</td>\n",
       "      <td>11</td>\n",
       "      <td>12</td>\n",
       "    </tr>\n",
       "    <tr>\n",
       "      <th>2240</th>\n",
       "      <td>2240</td>\n",
       "      <td>NaN</td>\n",
       "      <td>52</td>\n",
       "      <td>1</td>\n",
       "      <td>14</td>\n",
       "    </tr>\n",
       "    <tr>\n",
       "      <th>2586</th>\n",
       "      <td>2586</td>\n",
       "      <td>NaN</td>\n",
       "      <td>104</td>\n",
       "      <td>13</td>\n",
       "      <td>12</td>\n",
       "    </tr>\n",
       "    <tr>\n",
       "      <th>3159</th>\n",
       "      <td>3159</td>\n",
       "      <td>NaN</td>\n",
       "      <td>126</td>\n",
       "      <td>11</td>\n",
       "      <td>13</td>\n",
       "    </tr>\n",
       "    <tr>\n",
       "      <th>3230</th>\n",
       "      <td>3230</td>\n",
       "      <td>NaN</td>\n",
       "      <td>120</td>\n",
       "      <td>16</td>\n",
       "      <td>14</td>\n",
       "    </tr>\n",
       "    <tr>\n",
       "      <th>3736</th>\n",
       "      <td>3736</td>\n",
       "      <td>NaN</td>\n",
       "      <td>41</td>\n",
       "      <td>8</td>\n",
       "      <td>15</td>\n",
       "    </tr>\n",
       "    <tr>\n",
       "      <th>4283</th>\n",
       "      <td>4283</td>\n",
       "      <td>NaN</td>\n",
       "      <td>77</td>\n",
       "      <td>7</td>\n",
       "      <td>14</td>\n",
       "    </tr>\n",
       "    <tr>\n",
       "      <th>4790</th>\n",
       "      <td>4790</td>\n",
       "      <td>NaN</td>\n",
       "      <td>91</td>\n",
       "      <td>16</td>\n",
       "      <td>14</td>\n",
       "    </tr>\n",
       "    <tr>\n",
       "      <th>38187</th>\n",
       "      <td>38183</td>\n",
       "      <td>NaN</td>\n",
       "      <td>39</td>\n",
       "      <td>12</td>\n",
       "      <td>21</td>\n",
       "    </tr>\n",
       "    <tr>\n",
       "      <th>40444</th>\n",
       "      <td>40440</td>\n",
       "      <td>NaN</td>\n",
       "      <td>120</td>\n",
       "      <td>16</td>\n",
       "      <td>15</td>\n",
       "    </tr>\n",
       "  </tbody>\n",
       "</table>\n",
       "</div>"
      ],
      "text/plain": [
       "       product_id product_name  aisle_id  department_id  prices\n",
       "33             34          NaN       121             14      12\n",
       "68             69          NaN        26              7      12\n",
       "115           116          NaN        93              3      11\n",
       "261           262          NaN       110             13      12\n",
       "525           525          NaN       109             11       1\n",
       "1511         1511          NaN        84             16      14\n",
       "1780         1780          NaN       126             11      12\n",
       "2240         2240          NaN        52              1      14\n",
       "2586         2586          NaN       104             13      12\n",
       "3159         3159          NaN       126             11      13\n",
       "3230         3230          NaN       120             16      14\n",
       "3736         3736          NaN        41              8      15\n",
       "4283         4283          NaN        77              7      14\n",
       "4790         4790          NaN        91             16      14\n",
       "38187       38183          NaN        39             12      21\n",
       "40444       40440          NaN       120             16      15"
      ]
     },
     "execution_count": 301,
     "metadata": {},
     "output_type": "execute_result"
    }
   ],
   "source": [
    "df_nan"
   ]
  },
  {
   "cell_type": "code",
   "execution_count": 302,
   "id": "680f611f-a79c-4dfa-9a46-671d9dd39e05",
   "metadata": {},
   "outputs": [
    {
     "data": {
      "text/plain": [
       "(49693, 5)"
      ]
     },
     "execution_count": 302,
     "metadata": {},
     "output_type": "execute_result"
    }
   ],
   "source": [
    "df_prods.shape"
   ]
  },
  {
   "cell_type": "markdown",
   "id": "83a6387e-64cf-47d8-9d8b-b9b53c2abc8b",
   "metadata": {},
   "source": [
    "#### 05. Duplicates"
   ]
  },
  {
   "cell_type": "code",
   "execution_count": 303,
   "id": "4af61f3c-5a8c-44a0-bcd7-2ba09ada5428",
   "metadata": {},
   "outputs": [],
   "source": [
    "df_prods_clean = df_prods[df_prods['product_name'].isnull() == False]"
   ]
  },
  {
   "cell_type": "code",
   "execution_count": 304,
   "id": "d5d08aa5-8626-47be-95e4-fb4f2d9baff2",
   "metadata": {},
   "outputs": [
    {
     "data": {
      "text/plain": [
       "(49677, 5)"
      ]
     },
     "execution_count": 304,
     "metadata": {},
     "output_type": "execute_result"
    }
   ],
   "source": [
    "df_prods_clean.shape"
   ]
  },
  {
   "cell_type": "code",
   "execution_count": 305,
   "id": "cd4cc7bb-2485-4196-9227-8c9017f9e780",
   "metadata": {},
   "outputs": [],
   "source": [
    "df_dups = df_prods_clean[df_prods_clean.duplicated()]"
   ]
  },
  {
   "cell_type": "code",
   "execution_count": 306,
   "id": "00d75601-04d8-479c-b8bc-a858a491168b",
   "metadata": {},
   "outputs": [
    {
     "data": {
      "text/html": [
       "<div>\n",
       "<style scoped>\n",
       "    .dataframe tbody tr th:only-of-type {\n",
       "        vertical-align: middle;\n",
       "    }\n",
       "\n",
       "    .dataframe tbody tr th {\n",
       "        vertical-align: top;\n",
       "    }\n",
       "\n",
       "    .dataframe thead th {\n",
       "        text-align: right;\n",
       "    }\n",
       "</style>\n",
       "<table border=\"1\" class=\"dataframe\">\n",
       "  <thead>\n",
       "    <tr style=\"text-align: right;\">\n",
       "      <th></th>\n",
       "      <th>product_id</th>\n",
       "      <th>product_name</th>\n",
       "      <th>aisle_id</th>\n",
       "      <th>department_id</th>\n",
       "      <th>prices</th>\n",
       "    </tr>\n",
       "  </thead>\n",
       "  <tbody>\n",
       "    <tr>\n",
       "      <th>462</th>\n",
       "      <td>462</td>\n",
       "      <td>Fiber 4g Gummy Dietary Supplement</td>\n",
       "      <td>70</td>\n",
       "      <td>11</td>\n",
       "      <td>5</td>\n",
       "    </tr>\n",
       "    <tr>\n",
       "      <th>18459</th>\n",
       "      <td>18458</td>\n",
       "      <td>Ranger IPA</td>\n",
       "      <td>27</td>\n",
       "      <td>5</td>\n",
       "      <td>9</td>\n",
       "    </tr>\n",
       "    <tr>\n",
       "      <th>26810</th>\n",
       "      <td>26808</td>\n",
       "      <td>Black House Coffee Roasty Stout Beer</td>\n",
       "      <td>27</td>\n",
       "      <td>5</td>\n",
       "      <td>13</td>\n",
       "    </tr>\n",
       "    <tr>\n",
       "      <th>35309</th>\n",
       "      <td>35306</td>\n",
       "      <td>Gluten Free Organic Peanut Butter &amp; Chocolate ...</td>\n",
       "      <td>121</td>\n",
       "      <td>14</td>\n",
       "      <td>7</td>\n",
       "    </tr>\n",
       "    <tr>\n",
       "      <th>35495</th>\n",
       "      <td>35491</td>\n",
       "      <td>Adore Forever Body Wash</td>\n",
       "      <td>127</td>\n",
       "      <td>11</td>\n",
       "      <td>10</td>\n",
       "    </tr>\n",
       "  </tbody>\n",
       "</table>\n",
       "</div>"
      ],
      "text/plain": [
       "       product_id                                       product_name  \\\n",
       "462           462                  Fiber 4g Gummy Dietary Supplement   \n",
       "18459       18458                                         Ranger IPA   \n",
       "26810       26808               Black House Coffee Roasty Stout Beer   \n",
       "35309       35306  Gluten Free Organic Peanut Butter & Chocolate ...   \n",
       "35495       35491                            Adore Forever Body Wash   \n",
       "\n",
       "       aisle_id  department_id  prices  \n",
       "462          70             11       5  \n",
       "18459        27              5       9  \n",
       "26810        27              5      13  \n",
       "35309       121             14       7  \n",
       "35495       127             11      10  "
      ]
     },
     "execution_count": 306,
     "metadata": {},
     "output_type": "execute_result"
    }
   ],
   "source": [
    "df_dups"
   ]
  },
  {
   "cell_type": "code",
   "execution_count": 307,
   "id": "4628780e-c1e4-413f-bbad-7d31ee7fdac1",
   "metadata": {},
   "outputs": [
    {
     "data": {
      "text/plain": [
       "(49677, 5)"
      ]
     },
     "execution_count": 307,
     "metadata": {},
     "output_type": "execute_result"
    }
   ],
   "source": [
    "df_prods_clean.shape"
   ]
  },
  {
   "cell_type": "code",
   "execution_count": 308,
   "id": "bcd3bb99-1edc-4ac3-a7d7-9597250006d6",
   "metadata": {},
   "outputs": [],
   "source": [
    "df_prods_clean_no_dups = df_prods_clean.drop_duplicates()"
   ]
  },
  {
   "cell_type": "code",
   "execution_count": 309,
   "id": "9ab7ee3d-61ac-4230-8897-80e5d43be554",
   "metadata": {},
   "outputs": [
    {
     "data": {
      "text/plain": [
       "(49672, 5)"
      ]
     },
     "execution_count": 309,
     "metadata": {},
     "output_type": "execute_result"
    }
   ],
   "source": [
    "df_prods_clean_no_dups.shape"
   ]
  },
  {
   "cell_type": "markdown",
   "id": "4d44c22d-97f8-4204-a58c-0d48c02326d7",
   "metadata": {},
   "source": [
    "### Task"
   ]
  },
  {
   "cell_type": "code",
   "execution_count": 310,
   "id": "914e1719-a4a2-4b6f-b4a6-2161a4f74cc1",
   "metadata": {},
   "outputs": [
    {
     "data": {
      "text/html": [
       "<div>\n",
       "<style scoped>\n",
       "    .dataframe tbody tr th:only-of-type {\n",
       "        vertical-align: middle;\n",
       "    }\n",
       "\n",
       "    .dataframe tbody tr th {\n",
       "        vertical-align: top;\n",
       "    }\n",
       "\n",
       "    .dataframe thead th {\n",
       "        text-align: right;\n",
       "    }\n",
       "</style>\n",
       "<table border=\"1\" class=\"dataframe\">\n",
       "  <thead>\n",
       "    <tr style=\"text-align: right;\">\n",
       "      <th></th>\n",
       "      <th>Unnamed: 0</th>\n",
       "      <th>order_id</th>\n",
       "      <th>user_id</th>\n",
       "      <th>order_number</th>\n",
       "      <th>orders_day_of_week</th>\n",
       "      <th>order_hour_of_day</th>\n",
       "      <th>days_since_prior_order</th>\n",
       "    </tr>\n",
       "  </thead>\n",
       "  <tbody>\n",
       "    <tr>\n",
       "      <th>count</th>\n",
       "      <td>3,421,083</td>\n",
       "      <td>3,421,083</td>\n",
       "      <td>3,421,083</td>\n",
       "      <td>3,421,083</td>\n",
       "      <td>3,421,083</td>\n",
       "      <td>3,421,083</td>\n",
       "      <td>3,214,874</td>\n",
       "    </tr>\n",
       "    <tr>\n",
       "      <th>mean</th>\n",
       "      <td>1,710,541</td>\n",
       "      <td>1,710,542</td>\n",
       "      <td>102,978</td>\n",
       "      <td>17</td>\n",
       "      <td>3</td>\n",
       "      <td>13</td>\n",
       "      <td>11</td>\n",
       "    </tr>\n",
       "    <tr>\n",
       "      <th>std</th>\n",
       "      <td>987,582</td>\n",
       "      <td>987,582</td>\n",
       "      <td>59,534</td>\n",
       "      <td>18</td>\n",
       "      <td>2</td>\n",
       "      <td>4</td>\n",
       "      <td>9</td>\n",
       "    </tr>\n",
       "    <tr>\n",
       "      <th>min</th>\n",
       "      <td>0</td>\n",
       "      <td>1</td>\n",
       "      <td>1</td>\n",
       "      <td>1</td>\n",
       "      <td>0</td>\n",
       "      <td>0</td>\n",
       "      <td>0</td>\n",
       "    </tr>\n",
       "    <tr>\n",
       "      <th>25%</th>\n",
       "      <td>855,270</td>\n",
       "      <td>855,272</td>\n",
       "      <td>51,394</td>\n",
       "      <td>5</td>\n",
       "      <td>1</td>\n",
       "      <td>10</td>\n",
       "      <td>4</td>\n",
       "    </tr>\n",
       "    <tr>\n",
       "      <th>50%</th>\n",
       "      <td>1,710,541</td>\n",
       "      <td>1,710,542</td>\n",
       "      <td>102,689</td>\n",
       "      <td>11</td>\n",
       "      <td>3</td>\n",
       "      <td>13</td>\n",
       "      <td>7</td>\n",
       "    </tr>\n",
       "    <tr>\n",
       "      <th>75%</th>\n",
       "      <td>2,565,812</td>\n",
       "      <td>2,565,812</td>\n",
       "      <td>154,385</td>\n",
       "      <td>23</td>\n",
       "      <td>5</td>\n",
       "      <td>16</td>\n",
       "      <td>15</td>\n",
       "    </tr>\n",
       "    <tr>\n",
       "      <th>max</th>\n",
       "      <td>3,421,082</td>\n",
       "      <td>3,421,083</td>\n",
       "      <td>206,209</td>\n",
       "      <td>100</td>\n",
       "      <td>6</td>\n",
       "      <td>23</td>\n",
       "      <td>30</td>\n",
       "    </tr>\n",
       "  </tbody>\n",
       "</table>\n",
       "</div>"
      ],
      "text/plain": [
       "       Unnamed: 0  order_id   user_id  order_number  orders_day_of_week  \\\n",
       "count   3,421,083 3,421,083 3,421,083     3,421,083           3,421,083   \n",
       "mean    1,710,541 1,710,542   102,978            17                   3   \n",
       "std       987,582   987,582    59,534            18                   2   \n",
       "min             0         1         1             1                   0   \n",
       "25%       855,270   855,272    51,394             5                   1   \n",
       "50%     1,710,541 1,710,542   102,689            11                   3   \n",
       "75%     2,565,812 2,565,812   154,385            23                   5   \n",
       "max     3,421,082 3,421,083   206,209           100                   6   \n",
       "\n",
       "       order_hour_of_day  days_since_prior_order  \n",
       "count          3,421,083               3,214,874  \n",
       "mean                  13                      11  \n",
       "std                    4                       9  \n",
       "min                    0                       0  \n",
       "25%                   10                       4  \n",
       "50%                   13                       7  \n",
       "75%                   16                      15  \n",
       "max                   23                      30  "
      ]
     },
     "execution_count": 310,
     "metadata": {},
     "output_type": "execute_result"
    }
   ],
   "source": [
    "df_ords.describe()"
   ]
  },
  {
   "cell_type": "markdown",
   "id": "ddf49978-e228-454c-9148-76dd3e1e9ba2",
   "metadata": {},
   "source": [
    "##### The days_since_prior_order column has fewer entries than the others, indicating missing values likely due to first-time orders, which have no prior reference point. Values range from 0 (same-day orders) to 30, suggesting a potential upper limit or monthly grouping. The order_number maxes out at 100, possibly indicating a cap per customer. order_dow ranges from 0 to 6, representing days of the week, and order_hour_of_day spans 0 to 23, covering a full day in hourly intervals. While order_id and user_id share the same count and minimum values, their differing maximums reflect that users can place multiple orders."
   ]
  },
  {
   "cell_type": "markdown",
   "id": "e0c35ca8-7d57-4461-aadc-fa277d9f5e91",
   "metadata": {},
   "source": [
    "#### 06. Mixed-Type Data"
   ]
  },
  {
   "cell_type": "code",
   "execution_count": 311,
   "id": "8eed6b99-a273-4906-bd27-d32d3ddd5664",
   "metadata": {},
   "outputs": [],
   "source": [
    "# Step 3 - Check for mixed types\n",
    "for col in df_ords.columns.tolist():\n",
    "  weird = (df_ords[[col]].map(type) != df_ords[[col]].iloc[0].apply(type)).any(axis = 1)\n",
    "  if len (df_ords[weird]) > 0:\n",
    "    print (col)"
   ]
  },
  {
   "cell_type": "markdown",
   "id": "28285ab7-9e75-4637-a1b7-f6fc9089bae3",
   "metadata": {},
   "source": [
    "#### 07. Missing Values"
   ]
  },
  {
   "cell_type": "code",
   "execution_count": null,
   "id": "61449c80-e183-4529-98e0-318d4144e146",
   "metadata": {},
   "outputs": [],
   "source": []
  },
  {
   "cell_type": "code",
   "execution_count": 312,
   "id": "e04eb0b3-568f-4194-b4e6-5a317851dbaa",
   "metadata": {},
   "outputs": [
    {
     "data": {
      "text/plain": [
       "Unnamed: 0                     0\n",
       "order_id                       0\n",
       "user_id                        0\n",
       "dataset_label                  0\n",
       "order_number                   0\n",
       "orders_day_of_week             0\n",
       "order_hour_of_day              0\n",
       "days_since_prior_order    206209\n",
       "dtype: int64"
      ]
     },
     "execution_count": 312,
     "metadata": {},
     "output_type": "execute_result"
    }
   ],
   "source": [
    "# Step 5 - Searching for missing values \n",
    "df_ords.isnull().sum()"
   ]
  },
  {
   "cell_type": "markdown",
   "id": "ac78e016-1e7c-453f-a28c-ae6be3ad00ee",
   "metadata": {},
   "source": [
    "##### There are 206,209 missing values in the days_since_prior_order column. This is likely because these entries represent a customer's first-ever order in the dataset. Since there is no previous order to compare it to, it’s not possible to calculate the number of days since a prior order. As a result, it's expected that this field would be blank (NaN) for first-time orders."
   ]
  },
  {
   "cell_type": "code",
   "execution_count": 313,
   "id": "bfca0c68-164f-404a-84ed-d962735389db",
   "metadata": {},
   "outputs": [],
   "source": [
    "df_nan = df_ords[df_ords['days_since_prior_order'].isnull() == True]"
   ]
  },
  {
   "cell_type": "code",
   "execution_count": 314,
   "id": "eeab671b-1a84-4c18-9b00-87115db34d4d",
   "metadata": {},
   "outputs": [
    {
     "data": {
      "text/html": [
       "<div>\n",
       "<style scoped>\n",
       "    .dataframe tbody tr th:only-of-type {\n",
       "        vertical-align: middle;\n",
       "    }\n",
       "\n",
       "    .dataframe tbody tr th {\n",
       "        vertical-align: top;\n",
       "    }\n",
       "\n",
       "    .dataframe thead th {\n",
       "        text-align: right;\n",
       "    }\n",
       "</style>\n",
       "<table border=\"1\" class=\"dataframe\">\n",
       "  <thead>\n",
       "    <tr style=\"text-align: right;\">\n",
       "      <th></th>\n",
       "      <th>Unnamed: 0</th>\n",
       "      <th>order_id</th>\n",
       "      <th>user_id</th>\n",
       "      <th>dataset_label</th>\n",
       "      <th>order_number</th>\n",
       "      <th>orders_day_of_week</th>\n",
       "      <th>order_hour_of_day</th>\n",
       "      <th>days_since_prior_order</th>\n",
       "    </tr>\n",
       "  </thead>\n",
       "  <tbody>\n",
       "    <tr>\n",
       "      <th>0</th>\n",
       "      <td>0</td>\n",
       "      <td>2539329</td>\n",
       "      <td>1</td>\n",
       "      <td>prior</td>\n",
       "      <td>1</td>\n",
       "      <td>2</td>\n",
       "      <td>8</td>\n",
       "      <td>NaN</td>\n",
       "    </tr>\n",
       "    <tr>\n",
       "      <th>11</th>\n",
       "      <td>11</td>\n",
       "      <td>2168274</td>\n",
       "      <td>2</td>\n",
       "      <td>prior</td>\n",
       "      <td>1</td>\n",
       "      <td>2</td>\n",
       "      <td>11</td>\n",
       "      <td>NaN</td>\n",
       "    </tr>\n",
       "    <tr>\n",
       "      <th>26</th>\n",
       "      <td>26</td>\n",
       "      <td>1374495</td>\n",
       "      <td>3</td>\n",
       "      <td>prior</td>\n",
       "      <td>1</td>\n",
       "      <td>1</td>\n",
       "      <td>14</td>\n",
       "      <td>NaN</td>\n",
       "    </tr>\n",
       "    <tr>\n",
       "      <th>39</th>\n",
       "      <td>39</td>\n",
       "      <td>3343014</td>\n",
       "      <td>4</td>\n",
       "      <td>prior</td>\n",
       "      <td>1</td>\n",
       "      <td>6</td>\n",
       "      <td>11</td>\n",
       "      <td>NaN</td>\n",
       "    </tr>\n",
       "    <tr>\n",
       "      <th>45</th>\n",
       "      <td>45</td>\n",
       "      <td>2717275</td>\n",
       "      <td>5</td>\n",
       "      <td>prior</td>\n",
       "      <td>1</td>\n",
       "      <td>3</td>\n",
       "      <td>12</td>\n",
       "      <td>NaN</td>\n",
       "    </tr>\n",
       "    <tr>\n",
       "      <th>...</th>\n",
       "      <td>...</td>\n",
       "      <td>...</td>\n",
       "      <td>...</td>\n",
       "      <td>...</td>\n",
       "      <td>...</td>\n",
       "      <td>...</td>\n",
       "      <td>...</td>\n",
       "      <td>...</td>\n",
       "    </tr>\n",
       "    <tr>\n",
       "      <th>3420930</th>\n",
       "      <td>3420930</td>\n",
       "      <td>969311</td>\n",
       "      <td>206205</td>\n",
       "      <td>prior</td>\n",
       "      <td>1</td>\n",
       "      <td>4</td>\n",
       "      <td>12</td>\n",
       "      <td>NaN</td>\n",
       "    </tr>\n",
       "    <tr>\n",
       "      <th>3420934</th>\n",
       "      <td>3420934</td>\n",
       "      <td>3189322</td>\n",
       "      <td>206206</td>\n",
       "      <td>prior</td>\n",
       "      <td>1</td>\n",
       "      <td>3</td>\n",
       "      <td>18</td>\n",
       "      <td>NaN</td>\n",
       "    </tr>\n",
       "    <tr>\n",
       "      <th>3421002</th>\n",
       "      <td>3421002</td>\n",
       "      <td>2166133</td>\n",
       "      <td>206207</td>\n",
       "      <td>prior</td>\n",
       "      <td>1</td>\n",
       "      <td>6</td>\n",
       "      <td>19</td>\n",
       "      <td>NaN</td>\n",
       "    </tr>\n",
       "    <tr>\n",
       "      <th>3421019</th>\n",
       "      <td>3421019</td>\n",
       "      <td>2227043</td>\n",
       "      <td>206208</td>\n",
       "      <td>prior</td>\n",
       "      <td>1</td>\n",
       "      <td>1</td>\n",
       "      <td>15</td>\n",
       "      <td>NaN</td>\n",
       "    </tr>\n",
       "    <tr>\n",
       "      <th>3421069</th>\n",
       "      <td>3421069</td>\n",
       "      <td>3154581</td>\n",
       "      <td>206209</td>\n",
       "      <td>prior</td>\n",
       "      <td>1</td>\n",
       "      <td>3</td>\n",
       "      <td>11</td>\n",
       "      <td>NaN</td>\n",
       "    </tr>\n",
       "  </tbody>\n",
       "</table>\n",
       "<p>206209 rows × 8 columns</p>\n",
       "</div>"
      ],
      "text/plain": [
       "         Unnamed: 0  order_id  user_id dataset_label  order_number  \\\n",
       "0                 0   2539329        1         prior             1   \n",
       "11               11   2168274        2         prior             1   \n",
       "26               26   1374495        3         prior             1   \n",
       "39               39   3343014        4         prior             1   \n",
       "45               45   2717275        5         prior             1   \n",
       "...             ...       ...      ...           ...           ...   \n",
       "3420930     3420930    969311   206205         prior             1   \n",
       "3420934     3420934   3189322   206206         prior             1   \n",
       "3421002     3421002   2166133   206207         prior             1   \n",
       "3421019     3421019   2227043   206208         prior             1   \n",
       "3421069     3421069   3154581   206209         prior             1   \n",
       "\n",
       "         orders_day_of_week  order_hour_of_day  days_since_prior_order  \n",
       "0                         2                  8                     NaN  \n",
       "11                        2                 11                     NaN  \n",
       "26                        1                 14                     NaN  \n",
       "39                        6                 11                     NaN  \n",
       "45                        3                 12                     NaN  \n",
       "...                     ...                ...                     ...  \n",
       "3420930                   4                 12                     NaN  \n",
       "3420934                   3                 18                     NaN  \n",
       "3421002                   6                 19                     NaN  \n",
       "3421019                   1                 15                     NaN  \n",
       "3421069                   3                 11                     NaN  \n",
       "\n",
       "[206209 rows x 8 columns]"
      ]
     },
     "execution_count": 314,
     "metadata": {},
     "output_type": "execute_result"
    }
   ],
   "source": [
    "df_nan"
   ]
  },
  {
   "cell_type": "code",
   "execution_count": 315,
   "id": "58f52cd7-635d-4534-8a00-5603f917061b",
   "metadata": {},
   "outputs": [
    {
     "data": {
      "text/plain": [
       "(3421083, 8)"
      ]
     },
     "execution_count": 315,
     "metadata": {},
     "output_type": "execute_result"
    }
   ],
   "source": [
    "df_ords.shape"
   ]
  },
  {
   "cell_type": "code",
   "execution_count": null,
   "id": "73195359-bb5a-4701-89e0-e2f1a95e3ef2",
   "metadata": {},
   "outputs": [],
   "source": []
  },
  {
   "cell_type": "code",
   "execution_count": 316,
   "id": "95d1e99f-fa5a-4baf-bda6-41890a20b515",
   "metadata": {},
   "outputs": [],
   "source": [
    "# Step 6 - Filtering the data that is not missing\n",
    "df_ords_clean = df_ords[df_ords['days_since_prior_order'].isnull() == False]"
   ]
  },
  {
   "cell_type": "code",
   "execution_count": 317,
   "id": "387bd135-0891-4cf9-8da5-f87a941f2e47",
   "metadata": {},
   "outputs": [
    {
     "data": {
      "text/plain": [
       "(3214874, 8)"
      ]
     },
     "execution_count": 317,
     "metadata": {},
     "output_type": "execute_result"
    }
   ],
   "source": [
    "df_ords_clean.shape"
   ]
  },
  {
   "cell_type": "markdown",
   "id": "5ab2ee5f-eb5f-4fd1-8f5d-fadfdfa9a041",
   "metadata": {},
   "source": [
    "##### In this case, I chose not to impute or remove the missing values. Instead, I created a subset dataframe that contains only the rows where days_since_prior_order is not missing, and I continued my analysis using this new filtered dataset."
   ]
  },
  {
   "cell_type": "code",
   "execution_count": null,
   "id": "ba3396d5-5349-4afa-a00a-dbb675472fc4",
   "metadata": {},
   "outputs": [],
   "source": []
  },
  {
   "cell_type": "code",
   "execution_count": null,
   "id": "e2eb0343-61dc-40c4-977a-298a43519551",
   "metadata": {},
   "outputs": [],
   "source": []
  },
  {
   "cell_type": "markdown",
   "id": "bb54a602-496e-448e-aca0-8d6a77f4e6cb",
   "metadata": {},
   "source": [
    "#### 08. Duplicates"
   ]
  },
  {
   "cell_type": "code",
   "execution_count": 318,
   "id": "c60def30-3a72-48cd-b110-0632d00240ce",
   "metadata": {},
   "outputs": [],
   "source": [
    "# Step 7 - Checking for duplicates \n",
    "df_ords_dups = df_ords[df_ords.duplicated()]"
   ]
  },
  {
   "cell_type": "code",
   "execution_count": 319,
   "id": "188af24b-4a2e-48a0-90ed-a43664e144eb",
   "metadata": {},
   "outputs": [
    {
     "data": {
      "text/html": [
       "<div>\n",
       "<style scoped>\n",
       "    .dataframe tbody tr th:only-of-type {\n",
       "        vertical-align: middle;\n",
       "    }\n",
       "\n",
       "    .dataframe tbody tr th {\n",
       "        vertical-align: top;\n",
       "    }\n",
       "\n",
       "    .dataframe thead th {\n",
       "        text-align: right;\n",
       "    }\n",
       "</style>\n",
       "<table border=\"1\" class=\"dataframe\">\n",
       "  <thead>\n",
       "    <tr style=\"text-align: right;\">\n",
       "      <th></th>\n",
       "      <th>Unnamed: 0</th>\n",
       "      <th>order_id</th>\n",
       "      <th>user_id</th>\n",
       "      <th>dataset_label</th>\n",
       "      <th>order_number</th>\n",
       "      <th>orders_day_of_week</th>\n",
       "      <th>order_hour_of_day</th>\n",
       "      <th>days_since_prior_order</th>\n",
       "    </tr>\n",
       "  </thead>\n",
       "  <tbody>\n",
       "  </tbody>\n",
       "</table>\n",
       "</div>"
      ],
      "text/plain": [
       "Empty DataFrame\n",
       "Columns: [Unnamed: 0, order_id, user_id, dataset_label, order_number, orders_day_of_week, order_hour_of_day, days_since_prior_order]\n",
       "Index: []"
      ]
     },
     "execution_count": 319,
     "metadata": {},
     "output_type": "execute_result"
    }
   ],
   "source": [
    "df_ords_dups"
   ]
  },
  {
   "cell_type": "markdown",
   "id": "9a885312-3ef0-4951-b5d8-a555617eca52",
   "metadata": {},
   "source": [
    "##### no duplicates found."
   ]
  },
  {
   "cell_type": "code",
   "execution_count": 320,
   "id": "ff49f622-522f-42eb-aee7-32101948df45",
   "metadata": {},
   "outputs": [],
   "source": [
    "# Step 9 - export df_ords_clean\n",
    "prepared_data_path = os.path.join(path, '02_Data', 'Prepared Data')"
   ]
  },
  {
   "cell_type": "code",
   "execution_count": 321,
   "id": "5418e2f2-77ce-4104-a941-356efdd5867c",
   "metadata": {},
   "outputs": [],
   "source": [
    "os.makedirs(prepared_data_path, exist_ok = True) "
   ]
  },
  {
   "cell_type": "code",
   "execution_count": 322,
   "id": "9e2a5533-912d-4628-adea-80a80f0a369a",
   "metadata": {},
   "outputs": [],
   "source": [
    "df_ords_clean.to_csv(os.path.join(prepared_data_path, 'orders_checked.csv'))"
   ]
  },
  {
   "cell_type": "code",
   "execution_count": 323,
   "id": "6f335b80-b800-4550-8a73-fb6dac19a969",
   "metadata": {},
   "outputs": [],
   "source": [
    "# Step 9 - export df_prods_clean_no_dups\n",
    "df_prods_clean_no_dups.to_csv(os.path.join(prepared_data_path, 'products_checked.csv'))"
   ]
  },
  {
   "cell_type": "code",
   "execution_count": null,
   "id": "8085d445-4796-430d-adea-a68908c44ab8",
   "metadata": {},
   "outputs": [],
   "source": []
  }
 ],
 "metadata": {
  "kernelspec": {
   "display_name": "Python [conda env:base] *",
   "language": "python",
   "name": "conda-base-py"
  },
  "language_info": {
   "codemirror_mode": {
    "name": "ipython",
    "version": 3
   },
   "file_extension": ".py",
   "mimetype": "text/x-python",
   "name": "python",
   "nbconvert_exporter": "python",
   "pygments_lexer": "ipython3",
   "version": "3.12.7"
  }
 },
 "nbformat": 4,
 "nbformat_minor": 5
}

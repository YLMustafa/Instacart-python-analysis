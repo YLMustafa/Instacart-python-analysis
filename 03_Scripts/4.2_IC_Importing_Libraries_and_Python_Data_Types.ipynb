{
 "cells": [
  {
   "cell_type": "markdown",
   "id": "8c6fa141-11ba-4fe8-898e-d1def3fbd4ac",
   "metadata": {},
   "source": [
    "# 4.2 IC Importing Libraries and Python Data Types"
   ]
  },
  {
   "cell_type": "markdown",
   "id": "72839cf0-2436-4ad9-804d-5fd75c1d7016",
   "metadata": {},
   "source": [
    "## Contents:"
   ]
  },
  {
   "cell_type": "markdown",
   "id": "015bd46f-5588-4346-af86-fdecc400de28",
   "metadata": {},
   "source": [
    "### 01. Importing Libraries"
   ]
  },
  {
   "cell_type": "code",
   "execution_count": 1,
   "id": "b3d81f5d-ab77-4552-aecc-4253356ee9df",
   "metadata": {},
   "outputs": [],
   "source": [
    "# Import libraries\n",
    "import pandas as pd\n",
    "import numpy as np\n",
    "import os"
   ]
  },
  {
   "cell_type": "markdown",
   "id": "5f499568-1f79-4671-b632-27aa40e6f46f",
   "metadata": {},
   "source": [
    "#### 01. Importing Libraries"
   ]
  },
  {
   "cell_type": "markdown",
   "id": "6736d8d4-8262-4094-ab17-9c8725ef741b",
   "metadata": {},
   "source": [
    "#### Python Data Types"
   ]
  },
  {
   "cell_type": "code",
   "execution_count": 34,
   "id": "2613895b-3479-402d-9cb4-7d9da4e2b29e",
   "metadata": {},
   "outputs": [
    {
     "data": {
      "text/plain": [
       "100"
      ]
     },
     "execution_count": 34,
     "metadata": {},
     "output_type": "execute_result"
    }
   ],
   "source": [
    "# Step 1 (a)\n",
    "a = 60\n",
    "b = 40\n",
    "a + b "
   ]
  },
  {
   "cell_type": "code",
   "execution_count": 35,
   "id": "abc1d5a4-b046-4bde-8343-ec3086c79813",
   "metadata": {},
   "outputs": [
    {
     "data": {
      "text/plain": [
       "100"
      ]
     },
     "execution_count": 35,
     "metadata": {},
     "output_type": "execute_result"
    }
   ],
   "source": [
    "# Step 1 (b)\n",
    "c = 150\n",
    "d = 50\n",
    "c - d"
   ]
  },
  {
   "cell_type": "code",
   "execution_count": 36,
   "id": "09c53c12-0b25-408c-8f40-8a7fd95d5bfb",
   "metadata": {},
   "outputs": [
    {
     "data": {
      "text/plain": [
       "100"
      ]
     },
     "execution_count": 36,
     "metadata": {},
     "output_type": "execute_result"
    }
   ],
   "source": [
    "# Step 1 (c)\n",
    "e = 80\n",
    "f = 30\n",
    "g = 10\n",
    "e + f - g"
   ]
  },
  {
   "cell_type": "code",
   "execution_count": 37,
   "id": "7bfc3749-159d-43a1-a267-dc663d2e66d3",
   "metadata": {},
   "outputs": [
    {
     "data": {
      "text/plain": [
       "5.0"
      ]
     },
     "execution_count": 37,
     "metadata": {},
     "output_type": "execute_result"
    }
   ],
   "source": [
    "# Step 2 (a)\n",
    "h = 25.5\n",
    "i = 5.1\n",
    "h / i"
   ]
  },
  {
   "cell_type": "code",
   "execution_count": 43,
   "id": "087b0a03-8c44-411f-b63f-a90144708c96",
   "metadata": {},
   "outputs": [
    {
     "data": {
      "text/plain": [
       "'Cat'"
      ]
     },
     "execution_count": 43,
     "metadata": {},
     "output_type": "execute_result"
    }
   ],
   "source": [
    "# Step 3\n",
    "j = 'C'\n",
    "k = 'a'\n",
    "l = 't'\n",
    "j + k + l"
   ]
  },
  {
   "cell_type": "code",
   "execution_count": 46,
   "id": "ee01d70b-afce-4080-b288-fb62c5b4b92c",
   "metadata": {},
   "outputs": [
    {
     "data": {
      "text/plain": [
       "'Python is fun. I love coding.'"
      ]
     },
     "execution_count": 46,
     "metadata": {},
     "output_type": "execute_result"
    }
   ],
   "source": [
    "# Step 4\n",
    "m = 'Python '\n",
    "n = 'is '\n",
    "o = 'fun.'\n",
    "p = ' I '\n",
    "q = 'love '\n",
    "r = 'coding.'\n",
    "m + n + o + p + q + r"
   ]
  },
  {
   "cell_type": "code",
   "execution_count": 52,
   "id": "ff07ca65-bf19-4ef7-961e-6112561491fb",
   "metadata": {},
   "outputs": [
    {
     "data": {
      "text/plain": [
       "'Hello! Hello! Hello! Hello! Hello! Hello! Hello! Hello! Hello! Hello! Hello! Hello! Hello! Hello! Hello! Hello! Hello! Hello! Hello! Hello! Hello! Hello! Hello! Hello! Hello! Hello! Hello! Hello! Hello! Hello! Hello! Hello! Hello! Hello! Hello! Hello! Hello! Hello! Hello! Hello! Hello! Hello! Hello! Hello! Hello! Hello! Hello! Hello! Hello! Hello! Hello! Hello! Hello! Hello! Hello! Hello! Hello! Hello! Hello! Hello! Hello! Hello! Hello! Hello! Hello! Hello! Hello! Hello! Hello! Hello! Hello! Hello! Hello! Hello! Hello! Hello! Hello! Hello! Hello! Hello! Hello! Hello! Hello! Hello! Hello! Hello! Hello! Hello! Hello! Hello! Hello! Hello! Hello! Hello! Hello! Hello! Hello! Hello! Hello! Hello! '"
      ]
     },
     "execution_count": 52,
     "metadata": {},
     "output_type": "execute_result"
    }
   ],
   "source": [
    "# Bonus Task\n",
    "s = 'Hello! '\n",
    "s * 100"
   ]
  },
  {
   "cell_type": "code",
   "execution_count": null,
   "id": "bfc30745-d196-4698-8eff-c6a91a3ada0f",
   "metadata": {},
   "outputs": [],
   "source": []
  }
 ],
 "metadata": {
  "kernelspec": {
   "display_name": "Python [conda env:base] *",
   "language": "python",
   "name": "conda-base-py"
  },
  "language_info": {
   "codemirror_mode": {
    "name": "ipython",
    "version": 3
   },
   "file_extension": ".py",
   "mimetype": "text/x-python",
   "name": "python",
   "nbconvert_exporter": "python",
   "pygments_lexer": "ipython3",
   "version": "3.12.7"
  }
 },
 "nbformat": 4,
 "nbformat_minor": 5
}

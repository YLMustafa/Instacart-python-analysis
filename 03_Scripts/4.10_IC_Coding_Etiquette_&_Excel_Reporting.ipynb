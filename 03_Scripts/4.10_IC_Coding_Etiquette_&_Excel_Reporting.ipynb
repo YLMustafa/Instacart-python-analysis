{
 "cells": [
  {
   "cell_type": "markdown",
   "id": "01f0d616-22b1-4c1a-ab19-5499d52a3295",
   "metadata": {},
   "source": [
    "# **4.10 IC Final Analysis & Customer Profiling**\n",
    "\n",
    "# **Region segmentation, customer profiling, and final deliverables**\n",
    "\n",
    "In this notebook, I begin by importing the merged dataset that combines customers, orders, and products. To ensure data security, I address any personally identifiable information (PII) before proceeding with analysis. I then segment customers by U.S. regions and compare spending habits across these regions to identify potential differences in consumer behaviour. Next, I exclude low-activity customers, as these are not of interest to Instacart’s Cheif Financial Officer (CFO), and focus instead on higher-value customers. Building on this, I create customer profiles using both demographic information (such as age, income, and dependants) and behavioural data (such as order timing and product preferences). To support interpretation, I generate visualisations that illustrate these results, and I also aggregate key metrics like spending and order frequency at the customer-profile level. Finally, I export the cleaned data and visualisations to support reporting and strategic decision-making."
   ]
  },
  {
   "cell_type": "markdown",
   "id": "32f3d1ed-e0e0-40ee-8707-ed7046ba6045",
   "metadata": {},
   "source": [
    "## Table of Contents  \n",
    "- [1. Import Libraries & Data](#1-import-libraries-&-data)  \n",
    "- [2. Data Security](#2-data-security)\n",
    "- [3. Region Segmentation](#3-region-segmentation)  \n",
    "- [4. Exclusion Flag](#4-exclusion-flag)  \n",
    "- [5. Customer Profiling](#5-customer-profiling)  \n",
    "- [6. Profile Distribution Visualisation](#6-profile-distribution-visualisation)\n",
    "- [7. Profile-level Aggregation](#7-profile-level-aggregation)  \n",
    "- [8. Profiles x Regions Cross-Analysis](#8-profiles-x-regions-cross-analysis)\n",
    "- [9. Export Final Data](#9-export-final-data)"
   ]
  },
  {
   "cell_type": "markdown",
   "id": "d4118c7c-cfe9-460e-bde4-f70be4135eb6",
   "metadata": {},
   "source": [
    "---"
   ]
  },
  {
   "cell_type": "markdown",
   "id": "3f86b3ed-75b8-43cd-ada0-c1fc1ce156ea",
   "metadata": {},
   "source": [
    "## 1. Import Libraries and Data\n",
    "I begin by importing the analysis and visualisation libraries required for this task:\n",
    "- `pandas` and `numpy` for data manipulation\n",
    "- `os` for file handling\n",
    "- `matplotlib` and `seaborn` for visualisations,\n",
    "- `scipy` for statistical operations (if needed).\n",
    "\n",
    "I then load the merged dataset (ords_prods_all.pkl) which contains orders, products, and customer data."
   ]
  },
  {
   "cell_type": "code",
   "execution_count": 1,
   "id": "a02cac85-dc01-46ab-9737-355a4730f2e6",
   "metadata": {},
   "outputs": [],
   "source": [
    "# Import libraries\n",
    "import pandas as pd\n",
    "import numpy as np\n",
    "import os\n",
    "import matplotlib.pyplot as plt\n",
    "import seaborn as sns\n",
    "import scipy"
   ]
  },
  {
   "cell_type": "code",
   "execution_count": 2,
   "id": "40937d79-ce01-4bfe-822e-f05b1bfbb225",
   "metadata": {},
   "outputs": [],
   "source": [
    "# Importing df_ords_prods_merge\n",
    "path = r'/Users/yaseminmustafa/Desktop/CareerFoundry/Exercise 4/15-05-2025_Instacart Basket Analysis'"
   ]
  },
  {
   "cell_type": "code",
   "execution_count": 3,
   "id": "e8d4006a-e2d5-4d67-b116-2c0797257324",
   "metadata": {},
   "outputs": [],
   "source": [
    "df_ords_prods_all = pd.read_pickle(os.path.join(path,\"02_Data/Prepared Data/ords_prods_all.pkl\"))"
   ]
  },
  {
   "cell_type": "markdown",
   "id": "aa996f5b-3467-478a-a609-926302c07033",
   "metadata": {},
   "source": [
    "---"
   ]
  },
  {
   "cell_type": "markdown",
   "id": "5414d46d-2ae5-4fab-9925-e6c043045193",
   "metadata": {},
   "source": [
    "## 2. Data Security\n",
    "Customer names are personally identifiable information (PII). Before continuing, I drop first_name and surname so I don't retain direct identifiers in analysis outputs."
   ]
  },
  {
   "cell_type": "code",
   "execution_count": 4,
   "id": "d52f4167-23a3-4375-97d1-1a6e347260a8",
   "metadata": {},
   "outputs": [
    {
     "data": {
      "text/html": [
       "<div>\n",
       "<style scoped>\n",
       "    .dataframe tbody tr th:only-of-type {\n",
       "        vertical-align: middle;\n",
       "    }\n",
       "\n",
       "    .dataframe tbody tr th {\n",
       "        vertical-align: top;\n",
       "    }\n",
       "\n",
       "    .dataframe thead th {\n",
       "        text-align: right;\n",
       "    }\n",
       "</style>\n",
       "<table border=\"1\" class=\"dataframe\">\n",
       "  <thead>\n",
       "    <tr style=\"text-align: right;\">\n",
       "      <th></th>\n",
       "      <th>user_id</th>\n",
       "      <th>first_name</th>\n",
       "      <th>surname</th>\n",
       "      <th>gender</th>\n",
       "      <th>state</th>\n",
       "      <th>age</th>\n",
       "      <th>date_joined</th>\n",
       "      <th>number_of_dependants</th>\n",
       "      <th>family_status</th>\n",
       "      <th>income</th>\n",
       "      <th>...</th>\n",
       "      <th>price_range_loc</th>\n",
       "      <th>busiest_day</th>\n",
       "      <th>busiest_days</th>\n",
       "      <th>busiest_period_of_day</th>\n",
       "      <th>max_order</th>\n",
       "      <th>loyalty_flag</th>\n",
       "      <th>avg_spending</th>\n",
       "      <th>spending_flag</th>\n",
       "      <th>median_order</th>\n",
       "      <th>order_frequency_flag</th>\n",
       "    </tr>\n",
       "  </thead>\n",
       "  <tbody>\n",
       "    <tr>\n",
       "      <th>0</th>\n",
       "      <td>26711</td>\n",
       "      <td>Deborah</td>\n",
       "      <td>Esquivel</td>\n",
       "      <td>Female</td>\n",
       "      <td>Missouri</td>\n",
       "      <td>48</td>\n",
       "      <td>1/1/2017</td>\n",
       "      <td>3</td>\n",
       "      <td>married</td>\n",
       "      <td>165665</td>\n",
       "      <td>...</td>\n",
       "      <td>Mid-range product</td>\n",
       "      <td>Regularly busy</td>\n",
       "      <td>Regularly busy</td>\n",
       "      <td>Average orders</td>\n",
       "      <td>8.0</td>\n",
       "      <td>New customer</td>\n",
       "      <td>8.205882</td>\n",
       "      <td>Low spender</td>\n",
       "      <td>19.0</td>\n",
       "      <td>Regular customer</td>\n",
       "    </tr>\n",
       "    <tr>\n",
       "      <th>1</th>\n",
       "      <td>26711</td>\n",
       "      <td>Deborah</td>\n",
       "      <td>Esquivel</td>\n",
       "      <td>Female</td>\n",
       "      <td>Missouri</td>\n",
       "      <td>48</td>\n",
       "      <td>1/1/2017</td>\n",
       "      <td>3</td>\n",
       "      <td>married</td>\n",
       "      <td>165665</td>\n",
       "      <td>...</td>\n",
       "      <td>Mid-range product</td>\n",
       "      <td>Regularly busy</td>\n",
       "      <td>Regularly busy</td>\n",
       "      <td>Most orders</td>\n",
       "      <td>8.0</td>\n",
       "      <td>New customer</td>\n",
       "      <td>8.205882</td>\n",
       "      <td>Low spender</td>\n",
       "      <td>19.0</td>\n",
       "      <td>Regular customer</td>\n",
       "    </tr>\n",
       "    <tr>\n",
       "      <th>2</th>\n",
       "      <td>26711</td>\n",
       "      <td>Deborah</td>\n",
       "      <td>Esquivel</td>\n",
       "      <td>Female</td>\n",
       "      <td>Missouri</td>\n",
       "      <td>48</td>\n",
       "      <td>1/1/2017</td>\n",
       "      <td>3</td>\n",
       "      <td>married</td>\n",
       "      <td>165665</td>\n",
       "      <td>...</td>\n",
       "      <td>Low-range product</td>\n",
       "      <td>Regularly busy</td>\n",
       "      <td>Regularly busy</td>\n",
       "      <td>Most orders</td>\n",
       "      <td>8.0</td>\n",
       "      <td>New customer</td>\n",
       "      <td>8.205882</td>\n",
       "      <td>Low spender</td>\n",
       "      <td>19.0</td>\n",
       "      <td>Regular customer</td>\n",
       "    </tr>\n",
       "    <tr>\n",
       "      <th>3</th>\n",
       "      <td>26711</td>\n",
       "      <td>Deborah</td>\n",
       "      <td>Esquivel</td>\n",
       "      <td>Female</td>\n",
       "      <td>Missouri</td>\n",
       "      <td>48</td>\n",
       "      <td>1/1/2017</td>\n",
       "      <td>3</td>\n",
       "      <td>married</td>\n",
       "      <td>165665</td>\n",
       "      <td>...</td>\n",
       "      <td>Mid-range product</td>\n",
       "      <td>Regularly busy</td>\n",
       "      <td>Regularly busy</td>\n",
       "      <td>Most orders</td>\n",
       "      <td>8.0</td>\n",
       "      <td>New customer</td>\n",
       "      <td>8.205882</td>\n",
       "      <td>Low spender</td>\n",
       "      <td>19.0</td>\n",
       "      <td>Regular customer</td>\n",
       "    </tr>\n",
       "    <tr>\n",
       "      <th>4</th>\n",
       "      <td>26711</td>\n",
       "      <td>Deborah</td>\n",
       "      <td>Esquivel</td>\n",
       "      <td>Female</td>\n",
       "      <td>Missouri</td>\n",
       "      <td>48</td>\n",
       "      <td>1/1/2017</td>\n",
       "      <td>3</td>\n",
       "      <td>married</td>\n",
       "      <td>165665</td>\n",
       "      <td>...</td>\n",
       "      <td>Low-range product</td>\n",
       "      <td>Regularly busy</td>\n",
       "      <td>Busiest days</td>\n",
       "      <td>Average orders</td>\n",
       "      <td>8.0</td>\n",
       "      <td>New customer</td>\n",
       "      <td>8.205882</td>\n",
       "      <td>Low spender</td>\n",
       "      <td>19.0</td>\n",
       "      <td>Regular customer</td>\n",
       "    </tr>\n",
       "  </tbody>\n",
       "</table>\n",
       "<p>5 rows × 34 columns</p>\n",
       "</div>"
      ],
      "text/plain": [
       "   user_id first_name   surname  gender     state  age date_joined  \\\n",
       "0    26711    Deborah  Esquivel  Female  Missouri   48    1/1/2017   \n",
       "1    26711    Deborah  Esquivel  Female  Missouri   48    1/1/2017   \n",
       "2    26711    Deborah  Esquivel  Female  Missouri   48    1/1/2017   \n",
       "3    26711    Deborah  Esquivel  Female  Missouri   48    1/1/2017   \n",
       "4    26711    Deborah  Esquivel  Female  Missouri   48    1/1/2017   \n",
       "\n",
       "   number_of_dependants family_status  income  ...    price_range_loc  \\\n",
       "0                     3       married  165665  ...  Mid-range product   \n",
       "1                     3       married  165665  ...  Mid-range product   \n",
       "2                     3       married  165665  ...  Low-range product   \n",
       "3                     3       married  165665  ...  Mid-range product   \n",
       "4                     3       married  165665  ...  Low-range product   \n",
       "\n",
       "      busiest_day    busiest_days  busiest_period_of_day  max_order  \\\n",
       "0  Regularly busy  Regularly busy         Average orders        8.0   \n",
       "1  Regularly busy  Regularly busy            Most orders        8.0   \n",
       "2  Regularly busy  Regularly busy            Most orders        8.0   \n",
       "3  Regularly busy  Regularly busy            Most orders        8.0   \n",
       "4  Regularly busy    Busiest days         Average orders        8.0   \n",
       "\n",
       "   loyalty_flag  avg_spending  spending_flag  median_order  \\\n",
       "0  New customer      8.205882    Low spender          19.0   \n",
       "1  New customer      8.205882    Low spender          19.0   \n",
       "2  New customer      8.205882    Low spender          19.0   \n",
       "3  New customer      8.205882    Low spender          19.0   \n",
       "4  New customer      8.205882    Low spender          19.0   \n",
       "\n",
       "  order_frequency_flag  \n",
       "0     Regular customer  \n",
       "1     Regular customer  \n",
       "2     Regular customer  \n",
       "3     Regular customer  \n",
       "4     Regular customer  \n",
       "\n",
       "[5 rows x 34 columns]"
      ]
     },
     "execution_count": 4,
     "metadata": {},
     "output_type": "execute_result"
    }
   ],
   "source": [
    "# Check output \n",
    "df_ords_prods_all.head()"
   ]
  },
  {
   "cell_type": "code",
   "execution_count": 5,
   "id": "ee825662-2c0c-4273-a584-d0992027a8de",
   "metadata": {},
   "outputs": [
    {
     "data": {
      "text/plain": [
       "(30328763, 34)"
      ]
     },
     "execution_count": 5,
     "metadata": {},
     "output_type": "execute_result"
    }
   ],
   "source": [
    "# Check shape\n",
    "df_ords_prods_all.shape"
   ]
  },
  {
   "cell_type": "code",
   "execution_count": 6,
   "id": "c0685e94-4e0b-442b-9103-15f7859255b4",
   "metadata": {},
   "outputs": [
    {
     "data": {
      "text/plain": [
       "Index(['user_id', 'first_name', 'surname', 'gender', 'state', 'age',\n",
       "       'date_joined', 'number_of_dependants', 'family_status', 'income',\n",
       "       'order_id', 'dataset_label', 'order_number', 'orders_day_of_week',\n",
       "       'order_hour_of_day', 'days_since_prior_order', 'product_id',\n",
       "       'add_to_cart_order', 'reordered', '_merge', 'product_name', 'aisle_id',\n",
       "       'department_id', 'prices', 'price_range_loc', 'busiest_day',\n",
       "       'busiest_days', 'busiest_period_of_day', 'max_order', 'loyalty_flag',\n",
       "       'avg_spending', 'spending_flag', 'median_order',\n",
       "       'order_frequency_flag'],\n",
       "      dtype='object')"
      ]
     },
     "execution_count": 6,
     "metadata": {},
     "output_type": "execute_result"
    }
   ],
   "source": [
    "# Check columns\n",
    "df_ords_prods_all.columns"
   ]
  },
  {
   "cell_type": "markdown",
   "id": "6fa230fc-c0d3-4a62-8e5e-390800f95e50",
   "metadata": {},
   "source": [
    "*The columns 'first_name' and 'surname' both contain personally identifiable information (PII), that can be traced back to a particular person. Therefore, these two columns should be dropped for security.*"
   ]
  },
  {
   "cell_type": "code",
   "execution_count": 7,
   "id": "953c650f-ca9e-46d0-a408-c7c00c800cac",
   "metadata": {},
   "outputs": [],
   "source": [
    "# Dropping columns for PII data protection\n",
    "df_ords_prods_all_2 = df_ords_prods_all.drop(columns = ['first_name', 'surname'])"
   ]
  },
  {
   "cell_type": "code",
   "execution_count": 8,
   "id": "806ad580-7b05-4e6e-9aa8-755bda9db39e",
   "metadata": {},
   "outputs": [
    {
     "data": {
      "text/html": [
       "<div>\n",
       "<style scoped>\n",
       "    .dataframe tbody tr th:only-of-type {\n",
       "        vertical-align: middle;\n",
       "    }\n",
       "\n",
       "    .dataframe tbody tr th {\n",
       "        vertical-align: top;\n",
       "    }\n",
       "\n",
       "    .dataframe thead th {\n",
       "        text-align: right;\n",
       "    }\n",
       "</style>\n",
       "<table border=\"1\" class=\"dataframe\">\n",
       "  <thead>\n",
       "    <tr style=\"text-align: right;\">\n",
       "      <th></th>\n",
       "      <th>user_id</th>\n",
       "      <th>gender</th>\n",
       "      <th>state</th>\n",
       "      <th>age</th>\n",
       "      <th>date_joined</th>\n",
       "      <th>number_of_dependants</th>\n",
       "      <th>family_status</th>\n",
       "      <th>income</th>\n",
       "      <th>order_id</th>\n",
       "      <th>dataset_label</th>\n",
       "      <th>...</th>\n",
       "      <th>price_range_loc</th>\n",
       "      <th>busiest_day</th>\n",
       "      <th>busiest_days</th>\n",
       "      <th>busiest_period_of_day</th>\n",
       "      <th>max_order</th>\n",
       "      <th>loyalty_flag</th>\n",
       "      <th>avg_spending</th>\n",
       "      <th>spending_flag</th>\n",
       "      <th>median_order</th>\n",
       "      <th>order_frequency_flag</th>\n",
       "    </tr>\n",
       "  </thead>\n",
       "  <tbody>\n",
       "    <tr>\n",
       "      <th>0</th>\n",
       "      <td>26711</td>\n",
       "      <td>Female</td>\n",
       "      <td>Missouri</td>\n",
       "      <td>48</td>\n",
       "      <td>1/1/2017</td>\n",
       "      <td>3</td>\n",
       "      <td>married</td>\n",
       "      <td>165665</td>\n",
       "      <td>423547</td>\n",
       "      <td>prior</td>\n",
       "      <td>...</td>\n",
       "      <td>Mid-range product</td>\n",
       "      <td>Regularly busy</td>\n",
       "      <td>Regularly busy</td>\n",
       "      <td>Average orders</td>\n",
       "      <td>8.0</td>\n",
       "      <td>New customer</td>\n",
       "      <td>8.205882</td>\n",
       "      <td>Low spender</td>\n",
       "      <td>19.0</td>\n",
       "      <td>Regular customer</td>\n",
       "    </tr>\n",
       "    <tr>\n",
       "      <th>1</th>\n",
       "      <td>26711</td>\n",
       "      <td>Female</td>\n",
       "      <td>Missouri</td>\n",
       "      <td>48</td>\n",
       "      <td>1/1/2017</td>\n",
       "      <td>3</td>\n",
       "      <td>married</td>\n",
       "      <td>165665</td>\n",
       "      <td>1285508</td>\n",
       "      <td>prior</td>\n",
       "      <td>...</td>\n",
       "      <td>Mid-range product</td>\n",
       "      <td>Regularly busy</td>\n",
       "      <td>Regularly busy</td>\n",
       "      <td>Most orders</td>\n",
       "      <td>8.0</td>\n",
       "      <td>New customer</td>\n",
       "      <td>8.205882</td>\n",
       "      <td>Low spender</td>\n",
       "      <td>19.0</td>\n",
       "      <td>Regular customer</td>\n",
       "    </tr>\n",
       "    <tr>\n",
       "      <th>2</th>\n",
       "      <td>26711</td>\n",
       "      <td>Female</td>\n",
       "      <td>Missouri</td>\n",
       "      <td>48</td>\n",
       "      <td>1/1/2017</td>\n",
       "      <td>3</td>\n",
       "      <td>married</td>\n",
       "      <td>165665</td>\n",
       "      <td>1285508</td>\n",
       "      <td>prior</td>\n",
       "      <td>...</td>\n",
       "      <td>Low-range product</td>\n",
       "      <td>Regularly busy</td>\n",
       "      <td>Regularly busy</td>\n",
       "      <td>Most orders</td>\n",
       "      <td>8.0</td>\n",
       "      <td>New customer</td>\n",
       "      <td>8.205882</td>\n",
       "      <td>Low spender</td>\n",
       "      <td>19.0</td>\n",
       "      <td>Regular customer</td>\n",
       "    </tr>\n",
       "    <tr>\n",
       "      <th>3</th>\n",
       "      <td>26711</td>\n",
       "      <td>Female</td>\n",
       "      <td>Missouri</td>\n",
       "      <td>48</td>\n",
       "      <td>1/1/2017</td>\n",
       "      <td>3</td>\n",
       "      <td>married</td>\n",
       "      <td>165665</td>\n",
       "      <td>1285508</td>\n",
       "      <td>prior</td>\n",
       "      <td>...</td>\n",
       "      <td>Mid-range product</td>\n",
       "      <td>Regularly busy</td>\n",
       "      <td>Regularly busy</td>\n",
       "      <td>Most orders</td>\n",
       "      <td>8.0</td>\n",
       "      <td>New customer</td>\n",
       "      <td>8.205882</td>\n",
       "      <td>Low spender</td>\n",
       "      <td>19.0</td>\n",
       "      <td>Regular customer</td>\n",
       "    </tr>\n",
       "    <tr>\n",
       "      <th>4</th>\n",
       "      <td>26711</td>\n",
       "      <td>Female</td>\n",
       "      <td>Missouri</td>\n",
       "      <td>48</td>\n",
       "      <td>1/1/2017</td>\n",
       "      <td>3</td>\n",
       "      <td>married</td>\n",
       "      <td>165665</td>\n",
       "      <td>2505178</td>\n",
       "      <td>prior</td>\n",
       "      <td>...</td>\n",
       "      <td>Low-range product</td>\n",
       "      <td>Regularly busy</td>\n",
       "      <td>Busiest days</td>\n",
       "      <td>Average orders</td>\n",
       "      <td>8.0</td>\n",
       "      <td>New customer</td>\n",
       "      <td>8.205882</td>\n",
       "      <td>Low spender</td>\n",
       "      <td>19.0</td>\n",
       "      <td>Regular customer</td>\n",
       "    </tr>\n",
       "  </tbody>\n",
       "</table>\n",
       "<p>5 rows × 32 columns</p>\n",
       "</div>"
      ],
      "text/plain": [
       "   user_id  gender     state  age date_joined  number_of_dependants  \\\n",
       "0    26711  Female  Missouri   48    1/1/2017                     3   \n",
       "1    26711  Female  Missouri   48    1/1/2017                     3   \n",
       "2    26711  Female  Missouri   48    1/1/2017                     3   \n",
       "3    26711  Female  Missouri   48    1/1/2017                     3   \n",
       "4    26711  Female  Missouri   48    1/1/2017                     3   \n",
       "\n",
       "  family_status  income  order_id dataset_label  ...    price_range_loc  \\\n",
       "0       married  165665    423547         prior  ...  Mid-range product   \n",
       "1       married  165665   1285508         prior  ...  Mid-range product   \n",
       "2       married  165665   1285508         prior  ...  Low-range product   \n",
       "3       married  165665   1285508         prior  ...  Mid-range product   \n",
       "4       married  165665   2505178         prior  ...  Low-range product   \n",
       "\n",
       "      busiest_day    busiest_days  busiest_period_of_day  max_order  \\\n",
       "0  Regularly busy  Regularly busy         Average orders        8.0   \n",
       "1  Regularly busy  Regularly busy            Most orders        8.0   \n",
       "2  Regularly busy  Regularly busy            Most orders        8.0   \n",
       "3  Regularly busy  Regularly busy            Most orders        8.0   \n",
       "4  Regularly busy    Busiest days         Average orders        8.0   \n",
       "\n",
       "   loyalty_flag  avg_spending spending_flag median_order  order_frequency_flag  \n",
       "0  New customer      8.205882   Low spender         19.0      Regular customer  \n",
       "1  New customer      8.205882   Low spender         19.0      Regular customer  \n",
       "2  New customer      8.205882   Low spender         19.0      Regular customer  \n",
       "3  New customer      8.205882   Low spender         19.0      Regular customer  \n",
       "4  New customer      8.205882   Low spender         19.0      Regular customer  \n",
       "\n",
       "[5 rows x 32 columns]"
      ]
     },
     "execution_count": 8,
     "metadata": {},
     "output_type": "execute_result"
    }
   ],
   "source": [
    "# Check ouptut\n",
    "df_ords_prods_all_2.head()"
   ]
  },
  {
   "cell_type": "code",
   "execution_count": 9,
   "id": "fe1efb85-ab2b-4f5a-99aa-bb80625c9caf",
   "metadata": {},
   "outputs": [
    {
     "data": {
      "text/plain": [
       "(30328763, 32)"
      ]
     },
     "execution_count": 9,
     "metadata": {},
     "output_type": "execute_result"
    }
   ],
   "source": [
    "# Check shape\n",
    "df_ords_prods_all_2.shape"
   ]
  },
  {
   "cell_type": "markdown",
   "id": "89ef5309-2684-4573-87b4-2dd260a39660",
   "metadata": {},
   "source": [
    "---"
   ]
  },
  {
   "cell_type": "markdown",
   "id": "7a9c1937-1412-45d3-a572-b906d0b1e020",
   "metadata": {},
   "source": [
    "## 3. Region Segmentation\n",
    "I create a region column by mapping states into U.S. regions (Northeast, Midwest, South, West). This enables regional comparisons. The mapping here follows a standard US Census-like grouping (you may adjust any state assignments if needed)."
   ]
  },
  {
   "cell_type": "code",
   "execution_count": 10,
   "id": "f04cede2-3802-413f-ab16-e0c9c1150cfe",
   "metadata": {},
   "outputs": [],
   "source": [
    "# Region mapping using U.S. Census Bureau classification\n",
    "def get_region(state):\n",
    "    northeast = [\n",
    "        'Connecticut', 'Maine', 'Massachusetts', 'New Hampshire', 'Rhode Island', 'Vermont',\n",
    "        'New Jersey', 'New York', 'Pennsylvania'\n",
    "    ]\n",
    "    midwest = [\n",
    "        'Wisconsin', 'Michigan', 'Illinois', 'Indiana', 'Ohio',\n",
    "        'North Dakota', 'South Dakota', 'Nebraska', 'Kansas', 'Minnesota', 'Iowa', 'Missouri'\n",
    "    ]\n",
    "    south = [\n",
    "        'Delaware', 'Maryland', 'District of Columbia', 'Virginia', 'West Virginia', 'North Carolina',\n",
    "        'South Carolina', 'Georgia', 'Florida', 'Kentucky', 'Tennessee', 'Mississippi', 'Alabama',\n",
    "        'Oklahoma', 'Texas', 'Arkansas', 'Louisiana'\n",
    "    ]\n",
    "    west = [\n",
    "        'Idaho', 'Montana', 'Wyoming', 'Nevada', 'Utah', 'Colorado', 'Arizona', 'New Mexico',\n",
    "        'Alaska', 'Washington', 'Oregon', 'California', 'Hawaii'\n",
    "    ]\n",
    "\n",
    "    if state in northeast:\n",
    "        return 'Northeast'\n",
    "    elif state in midwest:\n",
    "        return 'Midwest'\n",
    "    elif state in south:\n",
    "        return 'South'\n",
    "    elif state in west:\n",
    "        return 'West'\n",
    "    else:\n",
    "        return 'Other'"
   ]
  },
  {
   "cell_type": "code",
   "execution_count": 11,
   "id": "94acecf5-778a-478f-9f6c-946c1418fd55",
   "metadata": {},
   "outputs": [],
   "source": [
    "# Apply to dataFrame\n",
    "df_ords_prods_all_2['region'] = df_ords_prods_all_2['state'].apply(get_region)"
   ]
  },
  {
   "cell_type": "code",
   "execution_count": 12,
   "id": "e03bd92c-9fd3-489c-8e1c-2c6f7ce26f83",
   "metadata": {},
   "outputs": [
    {
     "data": {
      "text/html": [
       "<div>\n",
       "<style scoped>\n",
       "    .dataframe tbody tr th:only-of-type {\n",
       "        vertical-align: middle;\n",
       "    }\n",
       "\n",
       "    .dataframe tbody tr th {\n",
       "        vertical-align: top;\n",
       "    }\n",
       "\n",
       "    .dataframe thead th {\n",
       "        text-align: right;\n",
       "    }\n",
       "</style>\n",
       "<table border=\"1\" class=\"dataframe\">\n",
       "  <thead>\n",
       "    <tr style=\"text-align: right;\">\n",
       "      <th></th>\n",
       "      <th>user_id</th>\n",
       "      <th>gender</th>\n",
       "      <th>state</th>\n",
       "      <th>age</th>\n",
       "      <th>date_joined</th>\n",
       "      <th>number_of_dependants</th>\n",
       "      <th>family_status</th>\n",
       "      <th>income</th>\n",
       "      <th>order_id</th>\n",
       "      <th>dataset_label</th>\n",
       "      <th>...</th>\n",
       "      <th>busiest_day</th>\n",
       "      <th>busiest_days</th>\n",
       "      <th>busiest_period_of_day</th>\n",
       "      <th>max_order</th>\n",
       "      <th>loyalty_flag</th>\n",
       "      <th>avg_spending</th>\n",
       "      <th>spending_flag</th>\n",
       "      <th>median_order</th>\n",
       "      <th>order_frequency_flag</th>\n",
       "      <th>region</th>\n",
       "    </tr>\n",
       "  </thead>\n",
       "  <tbody>\n",
       "    <tr>\n",
       "      <th>0</th>\n",
       "      <td>26711</td>\n",
       "      <td>Female</td>\n",
       "      <td>Missouri</td>\n",
       "      <td>48</td>\n",
       "      <td>1/1/2017</td>\n",
       "      <td>3</td>\n",
       "      <td>married</td>\n",
       "      <td>165665</td>\n",
       "      <td>423547</td>\n",
       "      <td>prior</td>\n",
       "      <td>...</td>\n",
       "      <td>Regularly busy</td>\n",
       "      <td>Regularly busy</td>\n",
       "      <td>Average orders</td>\n",
       "      <td>8.0</td>\n",
       "      <td>New customer</td>\n",
       "      <td>8.205882</td>\n",
       "      <td>Low spender</td>\n",
       "      <td>19.0</td>\n",
       "      <td>Regular customer</td>\n",
       "      <td>Midwest</td>\n",
       "    </tr>\n",
       "    <tr>\n",
       "      <th>1</th>\n",
       "      <td>26711</td>\n",
       "      <td>Female</td>\n",
       "      <td>Missouri</td>\n",
       "      <td>48</td>\n",
       "      <td>1/1/2017</td>\n",
       "      <td>3</td>\n",
       "      <td>married</td>\n",
       "      <td>165665</td>\n",
       "      <td>1285508</td>\n",
       "      <td>prior</td>\n",
       "      <td>...</td>\n",
       "      <td>Regularly busy</td>\n",
       "      <td>Regularly busy</td>\n",
       "      <td>Most orders</td>\n",
       "      <td>8.0</td>\n",
       "      <td>New customer</td>\n",
       "      <td>8.205882</td>\n",
       "      <td>Low spender</td>\n",
       "      <td>19.0</td>\n",
       "      <td>Regular customer</td>\n",
       "      <td>Midwest</td>\n",
       "    </tr>\n",
       "    <tr>\n",
       "      <th>2</th>\n",
       "      <td>26711</td>\n",
       "      <td>Female</td>\n",
       "      <td>Missouri</td>\n",
       "      <td>48</td>\n",
       "      <td>1/1/2017</td>\n",
       "      <td>3</td>\n",
       "      <td>married</td>\n",
       "      <td>165665</td>\n",
       "      <td>1285508</td>\n",
       "      <td>prior</td>\n",
       "      <td>...</td>\n",
       "      <td>Regularly busy</td>\n",
       "      <td>Regularly busy</td>\n",
       "      <td>Most orders</td>\n",
       "      <td>8.0</td>\n",
       "      <td>New customer</td>\n",
       "      <td>8.205882</td>\n",
       "      <td>Low spender</td>\n",
       "      <td>19.0</td>\n",
       "      <td>Regular customer</td>\n",
       "      <td>Midwest</td>\n",
       "    </tr>\n",
       "    <tr>\n",
       "      <th>3</th>\n",
       "      <td>26711</td>\n",
       "      <td>Female</td>\n",
       "      <td>Missouri</td>\n",
       "      <td>48</td>\n",
       "      <td>1/1/2017</td>\n",
       "      <td>3</td>\n",
       "      <td>married</td>\n",
       "      <td>165665</td>\n",
       "      <td>1285508</td>\n",
       "      <td>prior</td>\n",
       "      <td>...</td>\n",
       "      <td>Regularly busy</td>\n",
       "      <td>Regularly busy</td>\n",
       "      <td>Most orders</td>\n",
       "      <td>8.0</td>\n",
       "      <td>New customer</td>\n",
       "      <td>8.205882</td>\n",
       "      <td>Low spender</td>\n",
       "      <td>19.0</td>\n",
       "      <td>Regular customer</td>\n",
       "      <td>Midwest</td>\n",
       "    </tr>\n",
       "    <tr>\n",
       "      <th>4</th>\n",
       "      <td>26711</td>\n",
       "      <td>Female</td>\n",
       "      <td>Missouri</td>\n",
       "      <td>48</td>\n",
       "      <td>1/1/2017</td>\n",
       "      <td>3</td>\n",
       "      <td>married</td>\n",
       "      <td>165665</td>\n",
       "      <td>2505178</td>\n",
       "      <td>prior</td>\n",
       "      <td>...</td>\n",
       "      <td>Regularly busy</td>\n",
       "      <td>Busiest days</td>\n",
       "      <td>Average orders</td>\n",
       "      <td>8.0</td>\n",
       "      <td>New customer</td>\n",
       "      <td>8.205882</td>\n",
       "      <td>Low spender</td>\n",
       "      <td>19.0</td>\n",
       "      <td>Regular customer</td>\n",
       "      <td>Midwest</td>\n",
       "    </tr>\n",
       "  </tbody>\n",
       "</table>\n",
       "<p>5 rows × 33 columns</p>\n",
       "</div>"
      ],
      "text/plain": [
       "   user_id  gender     state  age date_joined  number_of_dependants  \\\n",
       "0    26711  Female  Missouri   48    1/1/2017                     3   \n",
       "1    26711  Female  Missouri   48    1/1/2017                     3   \n",
       "2    26711  Female  Missouri   48    1/1/2017                     3   \n",
       "3    26711  Female  Missouri   48    1/1/2017                     3   \n",
       "4    26711  Female  Missouri   48    1/1/2017                     3   \n",
       "\n",
       "  family_status  income  order_id dataset_label  ...     busiest_day  \\\n",
       "0       married  165665    423547         prior  ...  Regularly busy   \n",
       "1       married  165665   1285508         prior  ...  Regularly busy   \n",
       "2       married  165665   1285508         prior  ...  Regularly busy   \n",
       "3       married  165665   1285508         prior  ...  Regularly busy   \n",
       "4       married  165665   2505178         prior  ...  Regularly busy   \n",
       "\n",
       "     busiest_days  busiest_period_of_day  max_order  loyalty_flag  \\\n",
       "0  Regularly busy         Average orders        8.0  New customer   \n",
       "1  Regularly busy            Most orders        8.0  New customer   \n",
       "2  Regularly busy            Most orders        8.0  New customer   \n",
       "3  Regularly busy            Most orders        8.0  New customer   \n",
       "4    Busiest days         Average orders        8.0  New customer   \n",
       "\n",
       "   avg_spending  spending_flag median_order order_frequency_flag   region  \n",
       "0      8.205882    Low spender         19.0     Regular customer  Midwest  \n",
       "1      8.205882    Low spender         19.0     Regular customer  Midwest  \n",
       "2      8.205882    Low spender         19.0     Regular customer  Midwest  \n",
       "3      8.205882    Low spender         19.0     Regular customer  Midwest  \n",
       "4      8.205882    Low spender         19.0     Regular customer  Midwest  \n",
       "\n",
       "[5 rows x 33 columns]"
      ]
     },
     "execution_count": 12,
     "metadata": {},
     "output_type": "execute_result"
    }
   ],
   "source": [
    "# Check output\n",
    "df_ords_prods_all_2.head()"
   ]
  },
  {
   "cell_type": "code",
   "execution_count": 13,
   "id": "fcf38a10-4b98-430e-a3cb-c9a9538d7a0c",
   "metadata": {},
   "outputs": [
    {
     "data": {
      "text/plain": [
       "(30328763, 33)"
      ]
     },
     "execution_count": 13,
     "metadata": {},
     "output_type": "execute_result"
    }
   ],
   "source": [
    "# Check shape\n",
    "df_ords_prods_all_2.shape"
   ]
  },
  {
   "cell_type": "markdown",
   "id": "0e0eb326-6015-43b5-bebe-05825e2c87cd",
   "metadata": {},
   "source": [
    "---"
   ]
  },
  {
   "cell_type": "markdown",
   "id": "53eb5704-7059-4f93-9034-f9d6ef190624",
   "metadata": {},
   "source": [
    "## 4. Spending Behaviour by Region\n",
    "I compare spending_flag (Low spender/High spender) across regions using a crosstab and a bar chart. This helps answer whether spending differs by region."
   ]
  },
  {
   "cell_type": "code",
   "execution_count": 14,
   "id": "6fa6472d-85c7-4d25-b463-64fa81280d27",
   "metadata": {},
   "outputs": [
    {
     "name": "stdout",
     "output_type": "stream",
     "text": [
      "spending_flag  High spender  Low spender\n",
      "region                                  \n",
      "Midwest               29975      7077611\n",
      "Northeast             19217      5337055\n",
      "South                 40593     10059224\n",
      "West                  31312      7733776\n"
     ]
    }
   ],
   "source": [
    "# Basic cross-tabulation\n",
    "spending_by_region = pd.crosstab(df_ords_prods_all_2['region'], df_ords_prods_all_2['spending_flag'])\n",
    "print(spending_by_region)"
   ]
  },
  {
   "cell_type": "code",
   "execution_count": 15,
   "id": "904fe09d-e8a4-44a3-84a3-a183f1cb331d",
   "metadata": {},
   "outputs": [
    {
     "data": {
      "image/png": "[encoded data removed]",
      "text/plain": [
       "<Figure size 1000x600 with 1 Axes>"
      ]
     },
     "metadata": {},
     "output_type": "display_data"
    }
   ],
   "source": [
    "# Plot the clustered column chart\n",
    "spending_by_region = spending_by_region.plot(kind = 'bar', figsize = (10, 6), color = ['purple', 'pink'])\n",
    "\n",
    "# Chart details\n",
    "plt.title('Spending Behavior by Region')\n",
    "plt.xlabel('Region')\n",
    "plt.ylabel('Number of Customers')\n",
    "plt.xticks(rotation=0)\n",
    "plt.legend(title='Spending Category')\n",
    "plt.tight_layout()"
   ]
  },
  {
   "cell_type": "markdown",
   "id": "6d216cf1-665f-453e-b797-9cefcc890e91",
   "metadata": {},
   "source": [
    "*Majority if customers are low spenders in all regions, however, the South has the greatest number of both high and low spenders overall. The Northeast has the fewest of both high and low spenders compared to other regions.*"
   ]
  },
  {
   "cell_type": "code",
   "execution_count": 16,
   "id": "0abbe0c4-3260-4b37-9d6d-c9107206086a",
   "metadata": {},
   "outputs": [],
   "source": [
    "# Export bar chart as a png\n",
    "spending_by_region.figure.savefig(os.path.join(path, '04_Analysis','Visualisations', 'spending_by_region.png'))"
   ]
  },
  {
   "cell_type": "markdown",
   "id": "080c475b-9ec9-4a8c-a7e6-83f0375f0e21",
   "metadata": {},
   "source": [
    "---"
   ]
  },
  {
   "cell_type": "markdown",
   "id": "dd259056-d541-4dfd-88ca-8246d9b1864c",
   "metadata": {},
   "source": [
    "## 5. Exclusion Flag\n",
    "I create an activity_customer_level flag: \n",
    "- customers with max_order less than 5 are \"Low-activity Customer\"\n",
    "- customers with max_order equal to or greater than 5 are \"High-activity Customer\"\n",
    "\n",
    "I then export both low-activity and high-activity subsets for the Chief Financial Officer (CFO) and downstream use."
   ]
  },
  {
   "cell_type": "code",
   "execution_count": 17,
   "id": "ca317fd5-68ca-412d-b4a3-ddaf986af38c",
   "metadata": {},
   "outputs": [],
   "source": [
    "#Creating an exclusion flag\n",
    "# Low-activity customers = max_order < 5\n",
    "# High-activity customer = max_order >=5\n",
    "\n",
    "activity_customer=[]\n",
    "\n",
    "for value in df_ords_prods_all_2['max_order']:\n",
    "    if value <5:\n",
    "        activity_customer.append('Low-activity Customer')\n",
    "    elif value >=5:\n",
    "        activity_customer.append('High-activity Customer')\n",
    "    else: activity_customer.append('Not enough information')\n",
    "df_ords_prods_all_2['activity_customer_level']=activity_customer"
   ]
  },
  {
   "cell_type": "code",
   "execution_count": 18,
   "id": "daf15556-3cc3-4ccb-acbc-ac08c9e41388",
   "metadata": {},
   "outputs": [
    {
     "data": {
      "text/html": [
       "<div>\n",
       "<style scoped>\n",
       "    .dataframe tbody tr th:only-of-type {\n",
       "        vertical-align: middle;\n",
       "    }\n",
       "\n",
       "    .dataframe tbody tr th {\n",
       "        vertical-align: top;\n",
       "    }\n",
       "\n",
       "    .dataframe thead th {\n",
       "        text-align: right;\n",
       "    }\n",
       "</style>\n",
       "<table border=\"1\" class=\"dataframe\">\n",
       "  <thead>\n",
       "    <tr style=\"text-align: right;\">\n",
       "      <th></th>\n",
       "      <th>user_id</th>\n",
       "      <th>gender</th>\n",
       "      <th>state</th>\n",
       "      <th>age</th>\n",
       "      <th>date_joined</th>\n",
       "      <th>number_of_dependants</th>\n",
       "      <th>family_status</th>\n",
       "      <th>income</th>\n",
       "      <th>order_id</th>\n",
       "      <th>dataset_label</th>\n",
       "      <th>...</th>\n",
       "      <th>busiest_days</th>\n",
       "      <th>busiest_period_of_day</th>\n",
       "      <th>max_order</th>\n",
       "      <th>loyalty_flag</th>\n",
       "      <th>avg_spending</th>\n",
       "      <th>spending_flag</th>\n",
       "      <th>median_order</th>\n",
       "      <th>order_frequency_flag</th>\n",
       "      <th>region</th>\n",
       "      <th>activity_customer_level</th>\n",
       "    </tr>\n",
       "  </thead>\n",
       "  <tbody>\n",
       "    <tr>\n",
       "      <th>0</th>\n",
       "      <td>26711</td>\n",
       "      <td>Female</td>\n",
       "      <td>Missouri</td>\n",
       "      <td>48</td>\n",
       "      <td>1/1/2017</td>\n",
       "      <td>3</td>\n",
       "      <td>married</td>\n",
       "      <td>165665</td>\n",
       "      <td>423547</td>\n",
       "      <td>prior</td>\n",
       "      <td>...</td>\n",
       "      <td>Regularly busy</td>\n",
       "      <td>Average orders</td>\n",
       "      <td>8.0</td>\n",
       "      <td>New customer</td>\n",
       "      <td>8.205882</td>\n",
       "      <td>Low spender</td>\n",
       "      <td>19.0</td>\n",
       "      <td>Regular customer</td>\n",
       "      <td>Midwest</td>\n",
       "      <td>High-activity Customer</td>\n",
       "    </tr>\n",
       "    <tr>\n",
       "      <th>1</th>\n",
       "      <td>26711</td>\n",
       "      <td>Female</td>\n",
       "      <td>Missouri</td>\n",
       "      <td>48</td>\n",
       "      <td>1/1/2017</td>\n",
       "      <td>3</td>\n",
       "      <td>married</td>\n",
       "      <td>165665</td>\n",
       "      <td>1285508</td>\n",
       "      <td>prior</td>\n",
       "      <td>...</td>\n",
       "      <td>Regularly busy</td>\n",
       "      <td>Most orders</td>\n",
       "      <td>8.0</td>\n",
       "      <td>New customer</td>\n",
       "      <td>8.205882</td>\n",
       "      <td>Low spender</td>\n",
       "      <td>19.0</td>\n",
       "      <td>Regular customer</td>\n",
       "      <td>Midwest</td>\n",
       "      <td>High-activity Customer</td>\n",
       "    </tr>\n",
       "    <tr>\n",
       "      <th>2</th>\n",
       "      <td>26711</td>\n",
       "      <td>Female</td>\n",
       "      <td>Missouri</td>\n",
       "      <td>48</td>\n",
       "      <td>1/1/2017</td>\n",
       "      <td>3</td>\n",
       "      <td>married</td>\n",
       "      <td>165665</td>\n",
       "      <td>1285508</td>\n",
       "      <td>prior</td>\n",
       "      <td>...</td>\n",
       "      <td>Regularly busy</td>\n",
       "      <td>Most orders</td>\n",
       "      <td>8.0</td>\n",
       "      <td>New customer</td>\n",
       "      <td>8.205882</td>\n",
       "      <td>Low spender</td>\n",
       "      <td>19.0</td>\n",
       "      <td>Regular customer</td>\n",
       "      <td>Midwest</td>\n",
       "      <td>High-activity Customer</td>\n",
       "    </tr>\n",
       "    <tr>\n",
       "      <th>3</th>\n",
       "      <td>26711</td>\n",
       "      <td>Female</td>\n",
       "      <td>Missouri</td>\n",
       "      <td>48</td>\n",
       "      <td>1/1/2017</td>\n",
       "      <td>3</td>\n",
       "      <td>married</td>\n",
       "      <td>165665</td>\n",
       "      <td>1285508</td>\n",
       "      <td>prior</td>\n",
       "      <td>...</td>\n",
       "      <td>Regularly busy</td>\n",
       "      <td>Most orders</td>\n",
       "      <td>8.0</td>\n",
       "      <td>New customer</td>\n",
       "      <td>8.205882</td>\n",
       "      <td>Low spender</td>\n",
       "      <td>19.0</td>\n",
       "      <td>Regular customer</td>\n",
       "      <td>Midwest</td>\n",
       "      <td>High-activity Customer</td>\n",
       "    </tr>\n",
       "    <tr>\n",
       "      <th>4</th>\n",
       "      <td>26711</td>\n",
       "      <td>Female</td>\n",
       "      <td>Missouri</td>\n",
       "      <td>48</td>\n",
       "      <td>1/1/2017</td>\n",
       "      <td>3</td>\n",
       "      <td>married</td>\n",
       "      <td>165665</td>\n",
       "      <td>2505178</td>\n",
       "      <td>prior</td>\n",
       "      <td>...</td>\n",
       "      <td>Busiest days</td>\n",
       "      <td>Average orders</td>\n",
       "      <td>8.0</td>\n",
       "      <td>New customer</td>\n",
       "      <td>8.205882</td>\n",
       "      <td>Low spender</td>\n",
       "      <td>19.0</td>\n",
       "      <td>Regular customer</td>\n",
       "      <td>Midwest</td>\n",
       "      <td>High-activity Customer</td>\n",
       "    </tr>\n",
       "  </tbody>\n",
       "</table>\n",
       "<p>5 rows × 34 columns</p>\n",
       "</div>"
      ],
      "text/plain": [
       "   user_id  gender     state  age date_joined  number_of_dependants  \\\n",
       "0    26711  Female  Missouri   48    1/1/2017                     3   \n",
       "1    26711  Female  Missouri   48    1/1/2017                     3   \n",
       "2    26711  Female  Missouri   48    1/1/2017                     3   \n",
       "3    26711  Female  Missouri   48    1/1/2017                     3   \n",
       "4    26711  Female  Missouri   48    1/1/2017                     3   \n",
       "\n",
       "  family_status  income  order_id dataset_label  ...    busiest_days  \\\n",
       "0       married  165665    423547         prior  ...  Regularly busy   \n",
       "1       married  165665   1285508         prior  ...  Regularly busy   \n",
       "2       married  165665   1285508         prior  ...  Regularly busy   \n",
       "3       married  165665   1285508         prior  ...  Regularly busy   \n",
       "4       married  165665   2505178         prior  ...    Busiest days   \n",
       "\n",
       "   busiest_period_of_day  max_order  loyalty_flag  avg_spending  \\\n",
       "0         Average orders        8.0  New customer      8.205882   \n",
       "1            Most orders        8.0  New customer      8.205882   \n",
       "2            Most orders        8.0  New customer      8.205882   \n",
       "3            Most orders        8.0  New customer      8.205882   \n",
       "4         Average orders        8.0  New customer      8.205882   \n",
       "\n",
       "   spending_flag  median_order order_frequency_flag   region  \\\n",
       "0    Low spender          19.0     Regular customer  Midwest   \n",
       "1    Low spender          19.0     Regular customer  Midwest   \n",
       "2    Low spender          19.0     Regular customer  Midwest   \n",
       "3    Low spender          19.0     Regular customer  Midwest   \n",
       "4    Low spender          19.0     Regular customer  Midwest   \n",
       "\n",
       "   activity_customer_level  \n",
       "0   High-activity Customer  \n",
       "1   High-activity Customer  \n",
       "2   High-activity Customer  \n",
       "3   High-activity Customer  \n",
       "4   High-activity Customer  \n",
       "\n",
       "[5 rows x 34 columns]"
      ]
     },
     "execution_count": 18,
     "metadata": {},
     "output_type": "execute_result"
    }
   ],
   "source": [
    "df_ords_prods_all_2.head()"
   ]
  },
  {
   "cell_type": "code",
   "execution_count": 19,
   "id": "94ea274a-a11e-4c48-9420-9e4302520986",
   "metadata": {},
   "outputs": [
    {
     "data": {
      "text/plain": [
       "(30328763, 34)"
      ]
     },
     "execution_count": 19,
     "metadata": {},
     "output_type": "execute_result"
    }
   ],
   "source": [
    "df_ords_prods_all_2.shape"
   ]
  },
  {
   "cell_type": "code",
   "execution_count": 20,
   "id": "a8095f80-4bfe-435d-a71b-ce78778f9567",
   "metadata": {},
   "outputs": [
    {
     "data": {
      "text/plain": [
       "activity_customer_level\n",
       "High-activity Customer    29303281\n",
       "Low-activity Customer      1025482\n",
       "Name: count, dtype: int64"
      ]
     },
     "execution_count": 20,
     "metadata": {},
     "output_type": "execute_result"
    }
   ],
   "source": [
    "#Checking the function\n",
    "df_ords_prods_all_2['activity_customer_level'].value_counts(dropna = False)"
   ]
  },
  {
   "cell_type": "code",
   "execution_count": 21,
   "id": "9ad12599-5a39-4dd5-b460-6f3eab138ca9",
   "metadata": {},
   "outputs": [
    {
     "data": {
      "text/plain": [
       "Text(0, 0.5, 'Number of Customers')"
      ]
     },
     "execution_count": 21,
     "metadata": {},
     "output_type": "execute_result"
    },
    {
     "data": {
      "image/png": "[encoded data removed]",
      "text/plain": [
       "<Figure size 640x480 with 1 Axes>"
      ]
     },
     "metadata": {},
     "output_type": "display_data"
    }
   ],
   "source": [
    "# Creating visualistaion\n",
    "activity_customer_level = df_ords_prods_all_2['activity_customer_level'].value_counts().plot.bar(color =['orange', 'yellow',])\n",
    "\n",
    "plt.title('Activity_Customer_Level')\n",
    "plt.title('Customer Activity Level')\n",
    "plt.xlabel('Customer Activity')\n",
    "plt.ylabel('Number of Customers')"
   ]
  },
  {
   "cell_type": "code",
   "execution_count": 22,
   "id": "f09b106c-53aa-4653-bbcd-a12a6d5c3010",
   "metadata": {},
   "outputs": [],
   "source": [
    "# Export bar chart as a png\n",
    "activity_customer_level.figure.savefig(os.path.join(path, '04_Analysis','Visualisations', 'activity_customer_level.png'))"
   ]
  },
  {
   "cell_type": "code",
   "execution_count": 23,
   "id": "3167053c-0663-4e6b-9a03-8d963a054c6c",
   "metadata": {},
   "outputs": [],
   "source": [
    "# Subsetting a new df based on a low-activity customer\n",
    "df_low_activity_cust = df_ords_prods_all_2[df_ords_prods_all_2['activity_customer_level']=='Low-activity Customer']"
   ]
  },
  {
   "cell_type": "code",
   "execution_count": 24,
   "id": "a29f3a21-48a7-4ad0-ac4d-e4bbdd54771f",
   "metadata": {},
   "outputs": [],
   "source": [
    "# Export data to pkl\n",
    "df_low_activity_cust.to_pickle(os.path.join(path, '02_Data','Prepared Data', 'low_activity_customer.pkl'))"
   ]
  },
  {
   "cell_type": "code",
   "execution_count": 25,
   "id": "e3a29f53-7222-4299-b2de-59725bc92a56",
   "metadata": {},
   "outputs": [],
   "source": [
    "# Subsetting a new df based on a high-activity customer\n",
    "df_high_activity_cust = df_ords_prods_all_2[df_ords_prods_all_2['activity_customer_level']=='High-activity Customer']"
   ]
  },
  {
   "cell_type": "code",
   "execution_count": 26,
   "id": "7b84d2e5-5f11-459c-9c0b-f088340614da",
   "metadata": {},
   "outputs": [],
   "source": [
    "# Export data to pkl\n",
    "df_high_activity_cust.to_pickle(os.path.join(path, '02_Data','Prepared Data', 'high_activity_customer.pkl'))"
   ]
  },
  {
   "cell_type": "markdown",
   "id": "400adf4d-b3f4-4a3d-9efc-c8243f2c4821",
   "metadata": {},
   "source": [
    "---"
   ]
  },
  {
   "cell_type": "markdown",
   "id": "ecb20723-d2a7-4e7d-84bc-12feade81aaf",
   "metadata": {},
   "source": [
    "## 6. Customer Profiling\n",
    "I create a customer_profile using a set of business-driven conditions (age, dependents, income, department preferences, order timing). I use np.select to apply the rules and fall back to \"General Customer\"."
   ]
  },
  {
   "cell_type": "code",
   "execution_count": 27,
   "id": "a28b336f-cc42-43a1-bd2f-ae3cfa792ac1",
   "metadata": {},
   "outputs": [],
   "source": [
    "# Define conditions\n",
    "conditions = [\n",
    "    (df_ords_prods_all_2['age'] < 30) & (df_ords_prods_all_2['number_of_dependants'] == 0) & (df_ords_prods_all_2['income'] < 40000),\n",
    "    (df_ords_prods_all_2['age'] >= 30) & (df_ords_prods_all_2['number_of_dependants'] >= 1) & \n",
    "        (df_ords_prods_all_2['income'] < 70000) & (df_ords_prods_all_2['department_id'].isin([18])),\n",
    "    (df_ords_prods_all_2['income'] >= 100000) & (df_ords_prods_all_2['department_id'].isin([5, 6, 12])),\n",
    "    (df_ords_prods_all_2['order_hour_of_day'] >= 21) | (df_ords_prods_all_2['order_hour_of_day'] <= 5),\n",
    "    (df_ords_prods_all_2['orders_day_of_week'].isin([0, 1])) & (df_ords_prods_all_2['number_of_dependants'] >= 2)\n",
    "]\n",
    "\n",
    "# Define corresponding profile labels\n",
    "choices = [\n",
    "    'Single Budget Adult',\n",
    "    'Young Parent',\n",
    "    'Affluent Shopper',\n",
    "    'Night Owl Shopper',\n",
    "    'Weekend Family Shopper'\n",
    "]\n",
    "\n",
    "# Apply conditions\n",
    "df_ords_prods_all_2['customer_profile'] = np.select(conditions, choices, default='General Customer')"
   ]
  },
  {
   "cell_type": "code",
   "execution_count": 28,
   "id": "3e82ecf4-04e3-4afa-9d7e-396d260abe93",
   "metadata": {},
   "outputs": [
    {
     "data": {
      "text/html": [
       "<div>\n",
       "<style scoped>\n",
       "    .dataframe tbody tr th:only-of-type {\n",
       "        vertical-align: middle;\n",
       "    }\n",
       "\n",
       "    .dataframe tbody tr th {\n",
       "        vertical-align: top;\n",
       "    }\n",
       "\n",
       "    .dataframe thead th {\n",
       "        text-align: right;\n",
       "    }\n",
       "</style>\n",
       "<table border=\"1\" class=\"dataframe\">\n",
       "  <thead>\n",
       "    <tr style=\"text-align: right;\">\n",
       "      <th></th>\n",
       "      <th>user_id</th>\n",
       "      <th>gender</th>\n",
       "      <th>state</th>\n",
       "      <th>age</th>\n",
       "      <th>date_joined</th>\n",
       "      <th>number_of_dependants</th>\n",
       "      <th>family_status</th>\n",
       "      <th>income</th>\n",
       "      <th>order_id</th>\n",
       "      <th>dataset_label</th>\n",
       "      <th>...</th>\n",
       "      <th>busiest_period_of_day</th>\n",
       "      <th>max_order</th>\n",
       "      <th>loyalty_flag</th>\n",
       "      <th>avg_spending</th>\n",
       "      <th>spending_flag</th>\n",
       "      <th>median_order</th>\n",
       "      <th>order_frequency_flag</th>\n",
       "      <th>region</th>\n",
       "      <th>activity_customer_level</th>\n",
       "      <th>customer_profile</th>\n",
       "    </tr>\n",
       "  </thead>\n",
       "  <tbody>\n",
       "    <tr>\n",
       "      <th>0</th>\n",
       "      <td>26711</td>\n",
       "      <td>Female</td>\n",
       "      <td>Missouri</td>\n",
       "      <td>48</td>\n",
       "      <td>1/1/2017</td>\n",
       "      <td>3</td>\n",
       "      <td>married</td>\n",
       "      <td>165665</td>\n",
       "      <td>423547</td>\n",
       "      <td>prior</td>\n",
       "      <td>...</td>\n",
       "      <td>Average orders</td>\n",
       "      <td>8.0</td>\n",
       "      <td>New customer</td>\n",
       "      <td>8.205882</td>\n",
       "      <td>Low spender</td>\n",
       "      <td>19.0</td>\n",
       "      <td>Regular customer</td>\n",
       "      <td>Midwest</td>\n",
       "      <td>High-activity Customer</td>\n",
       "      <td>General Customer</td>\n",
       "    </tr>\n",
       "    <tr>\n",
       "      <th>1</th>\n",
       "      <td>26711</td>\n",
       "      <td>Female</td>\n",
       "      <td>Missouri</td>\n",
       "      <td>48</td>\n",
       "      <td>1/1/2017</td>\n",
       "      <td>3</td>\n",
       "      <td>married</td>\n",
       "      <td>165665</td>\n",
       "      <td>1285508</td>\n",
       "      <td>prior</td>\n",
       "      <td>...</td>\n",
       "      <td>Most orders</td>\n",
       "      <td>8.0</td>\n",
       "      <td>New customer</td>\n",
       "      <td>8.205882</td>\n",
       "      <td>Low spender</td>\n",
       "      <td>19.0</td>\n",
       "      <td>Regular customer</td>\n",
       "      <td>Midwest</td>\n",
       "      <td>High-activity Customer</td>\n",
       "      <td>General Customer</td>\n",
       "    </tr>\n",
       "    <tr>\n",
       "      <th>2</th>\n",
       "      <td>26711</td>\n",
       "      <td>Female</td>\n",
       "      <td>Missouri</td>\n",
       "      <td>48</td>\n",
       "      <td>1/1/2017</td>\n",
       "      <td>3</td>\n",
       "      <td>married</td>\n",
       "      <td>165665</td>\n",
       "      <td>1285508</td>\n",
       "      <td>prior</td>\n",
       "      <td>...</td>\n",
       "      <td>Most orders</td>\n",
       "      <td>8.0</td>\n",
       "      <td>New customer</td>\n",
       "      <td>8.205882</td>\n",
       "      <td>Low spender</td>\n",
       "      <td>19.0</td>\n",
       "      <td>Regular customer</td>\n",
       "      <td>Midwest</td>\n",
       "      <td>High-activity Customer</td>\n",
       "      <td>General Customer</td>\n",
       "    </tr>\n",
       "    <tr>\n",
       "      <th>3</th>\n",
       "      <td>26711</td>\n",
       "      <td>Female</td>\n",
       "      <td>Missouri</td>\n",
       "      <td>48</td>\n",
       "      <td>1/1/2017</td>\n",
       "      <td>3</td>\n",
       "      <td>married</td>\n",
       "      <td>165665</td>\n",
       "      <td>1285508</td>\n",
       "      <td>prior</td>\n",
       "      <td>...</td>\n",
       "      <td>Most orders</td>\n",
       "      <td>8.0</td>\n",
       "      <td>New customer</td>\n",
       "      <td>8.205882</td>\n",
       "      <td>Low spender</td>\n",
       "      <td>19.0</td>\n",
       "      <td>Regular customer</td>\n",
       "      <td>Midwest</td>\n",
       "      <td>High-activity Customer</td>\n",
       "      <td>General Customer</td>\n",
       "    </tr>\n",
       "    <tr>\n",
       "      <th>4</th>\n",
       "      <td>26711</td>\n",
       "      <td>Female</td>\n",
       "      <td>Missouri</td>\n",
       "      <td>48</td>\n",
       "      <td>1/1/2017</td>\n",
       "      <td>3</td>\n",
       "      <td>married</td>\n",
       "      <td>165665</td>\n",
       "      <td>2505178</td>\n",
       "      <td>prior</td>\n",
       "      <td>...</td>\n",
       "      <td>Average orders</td>\n",
       "      <td>8.0</td>\n",
       "      <td>New customer</td>\n",
       "      <td>8.205882</td>\n",
       "      <td>Low spender</td>\n",
       "      <td>19.0</td>\n",
       "      <td>Regular customer</td>\n",
       "      <td>Midwest</td>\n",
       "      <td>High-activity Customer</td>\n",
       "      <td>Weekend Family Shopper</td>\n",
       "    </tr>\n",
       "  </tbody>\n",
       "</table>\n",
       "<p>5 rows × 35 columns</p>\n",
       "</div>"
      ],
      "text/plain": [
       "   user_id  gender     state  age date_joined  number_of_dependants  \\\n",
       "0    26711  Female  Missouri   48    1/1/2017                     3   \n",
       "1    26711  Female  Missouri   48    1/1/2017                     3   \n",
       "2    26711  Female  Missouri   48    1/1/2017                     3   \n",
       "3    26711  Female  Missouri   48    1/1/2017                     3   \n",
       "4    26711  Female  Missouri   48    1/1/2017                     3   \n",
       "\n",
       "  family_status  income  order_id dataset_label  ...  busiest_period_of_day  \\\n",
       "0       married  165665    423547         prior  ...         Average orders   \n",
       "1       married  165665   1285508         prior  ...            Most orders   \n",
       "2       married  165665   1285508         prior  ...            Most orders   \n",
       "3       married  165665   1285508         prior  ...            Most orders   \n",
       "4       married  165665   2505178         prior  ...         Average orders   \n",
       "\n",
       "   max_order  loyalty_flag  avg_spending  spending_flag  median_order  \\\n",
       "0        8.0  New customer      8.205882    Low spender          19.0   \n",
       "1        8.0  New customer      8.205882    Low spender          19.0   \n",
       "2        8.0  New customer      8.205882    Low spender          19.0   \n",
       "3        8.0  New customer      8.205882    Low spender          19.0   \n",
       "4        8.0  New customer      8.205882    Low spender          19.0   \n",
       "\n",
       "   order_frequency_flag   region activity_customer_level  \\\n",
       "0      Regular customer  Midwest  High-activity Customer   \n",
       "1      Regular customer  Midwest  High-activity Customer   \n",
       "2      Regular customer  Midwest  High-activity Customer   \n",
       "3      Regular customer  Midwest  High-activity Customer   \n",
       "4      Regular customer  Midwest  High-activity Customer   \n",
       "\n",
       "         customer_profile  \n",
       "0        General Customer  \n",
       "1        General Customer  \n",
       "2        General Customer  \n",
       "3        General Customer  \n",
       "4  Weekend Family Shopper  \n",
       "\n",
       "[5 rows x 35 columns]"
      ]
     },
     "execution_count": 28,
     "metadata": {},
     "output_type": "execute_result"
    }
   ],
   "source": [
    "df_ords_prods_all_2.head()"
   ]
  },
  {
   "cell_type": "code",
   "execution_count": 29,
   "id": "c1fb0ecf-932f-4e9c-8a85-19f0572f87b3",
   "metadata": {},
   "outputs": [
    {
     "data": {
      "text/plain": [
       "(30328763, 35)"
      ]
     },
     "execution_count": 29,
     "metadata": {},
     "output_type": "execute_result"
    }
   ],
   "source": [
    "df_ords_prods_all_2.shape"
   ]
  },
  {
   "cell_type": "markdown",
   "id": "90075e42-9e47-4ad6-99c6-604a4b32cd4f",
   "metadata": {},
   "source": [
    "---"
   ]
  },
  {
   "cell_type": "markdown",
   "id": "6cd651d4-2b7e-4866-9e40-7a3e599e215f",
   "metadata": {},
   "source": [
    "## 7. Profile Distribution Visualisation\n",
    "Visualise profile counts so marketing can see which groups are largest and target accordingly."
   ]
  },
  {
   "cell_type": "code",
   "execution_count": 30,
   "id": "c471e75b-51dd-4e3c-a098-4135c96461c2",
   "metadata": {},
   "outputs": [],
   "source": [
    "# Count profile occurrences\n",
    "profile_counts = df_ords_prods_all_2['customer_profile'].value_counts()"
   ]
  },
  {
   "cell_type": "code",
   "execution_count": 31,
   "id": "329f6f03-5ba8-44aa-abd8-76e7104680e8",
   "metadata": {},
   "outputs": [
    {
     "data": {
      "text/plain": [
       "customer_profile\n",
       "General Customer          22379193\n",
       "Weekend Family Shopper     5065445\n",
       "Night Owl Shopper          2223395\n",
       "Affluent Shopper            512827\n",
       "Single Budget Adult         104234\n",
       "Young Parent                 43669\n",
       "Name: count, dtype: int64"
      ]
     },
     "execution_count": 31,
     "metadata": {},
     "output_type": "execute_result"
    }
   ],
   "source": [
    "# Check output\n",
    "profile_counts"
   ]
  },
  {
   "cell_type": "code",
   "execution_count": 32,
   "id": "52f1d318-ac32-4cc7-999d-57f735c83c38",
   "metadata": {},
   "outputs": [
    {
     "data": {
      "image/png": "[encoded data removed]",
      "text/plain": [
       "<Figure size 1000x600 with 1 Axes>"
      ]
     },
     "metadata": {},
     "output_type": "display_data"
    }
   ],
   "source": [
    "# Plot bar chart\n",
    "plt.figure(figsize=(10, 6))\n",
    "customer_profiles = df_ords_prods_all_2['customer_profile'].value_counts().plot.bar(\n",
    "    color='skyblue',\n",
    "    edgecolor='black'\n",
    ")\n",
    "plt.title('Distribution of Customer Profiles')\n",
    "plt.xlabel('Customer Profile')\n",
    "plt.ylabel('Number of Customers')\n",
    "plt.xticks(rotation=45)\n",
    "plt.tight_layout()\n",
    "plt.show()"
   ]
  },
  {
   "cell_type": "code",
   "execution_count": 33,
   "id": "1fe92793-5ff5-4a03-8e91-3d75afd0e561",
   "metadata": {},
   "outputs": [],
   "source": [
    "# Export bar chart as a png\n",
    "customer_profiles.figure.savefig(os.path.join(path, '04_Analysis','Visualisations', 'customer_profiles.png'))"
   ]
  },
  {
   "cell_type": "markdown",
   "id": "2cdd7095-1282-4927-a221-1ffc9b977383",
   "metadata": {},
   "source": [
    "---"
   ]
  },
  {
   "cell_type": "markdown",
   "id": "632004e4-c42a-4f37-bb60-255b85451a61",
   "metadata": {},
   "source": [
    "## 8. Profile-Level Aggregation \n",
    "I aggregate order_number and prices by customer_profile to get min, mean and max values — useful for product targeting and expected revenue per profile."
   ]
  },
  {
   "cell_type": "code",
   "execution_count": 34,
   "id": "6514a0d3-9aca-46cd-9d61-4488c22a6c40",
   "metadata": {},
   "outputs": [],
   "source": [
    "# aggregate max, min and mean variables on 'customer_profile'  \n",
    "agg_results = df_ords_prods_all_2.groupby('customer_profile')[['order_number', 'prices']].agg(['min', 'mean', 'max'])"
   ]
  },
  {
   "cell_type": "code",
   "execution_count": 35,
   "id": "e51187ba-5510-45bd-ae16-0d34a2ed41e6",
   "metadata": {},
   "outputs": [
    {
     "name": "stdout",
     "output_type": "stream",
     "text": [
      "                       order_number                  prices                 \n",
      "                                min       mean   max    min       mean   max\n",
      "customer_profile                                                            \n",
      "Affluent Shopper                2.0  17.132887  99.0    1.0  13.362478  25.0\n",
      "General Customer                2.0  18.434547  99.0    1.0   7.695618  25.0\n",
      "Night Owl Shopper               2.0  17.942972  99.0    1.0   7.721935  25.0\n",
      "Single Budget Adult             2.0  16.791604  99.0    1.0   6.475605  25.0\n",
      "Weekend Family Shopper          2.0  17.678091  99.0    1.0   7.711408  25.0\n",
      "Young Parent                    2.0  20.367080  99.0    1.0   7.434031  15.0\n"
     ]
    }
   ],
   "source": [
    "# Check output\n",
    "print(agg_results)"
   ]
  },
  {
   "cell_type": "markdown",
   "id": "9e1a4f89-4d4d-4e39-ba91-f27c78d492fd",
   "metadata": {},
   "source": [
    "---"
   ]
  },
  {
   "cell_type": "markdown",
   "id": "fd87e78c-8ac6-4657-9bd1-cb86bb9618ac",
   "metadata": {},
   "source": [
    "## 9. Profiles × Regions Cross-Analysis\n",
    "I cross-tabulate profiles by region and show counts. This helps detect regional differences in profiles that may guide regional marketing strategies."
   ]
  },
  {
   "cell_type": "code",
   "execution_count": 36,
   "id": "b544b901-cad8-4793-91d8-6b4342e6bd09",
   "metadata": {},
   "outputs": [],
   "source": [
    "# Crosstab: how many of each profile in each region\n",
    "profile_region_ct = pd.crosstab(df_ords_prods_all_2['customer_profile'], df_ords_prods_all_2['region'])"
   ]
  },
  {
   "cell_type": "code",
   "execution_count": 37,
   "id": "bfe0c284-0ee7-407c-b613-e62c7b3f758b",
   "metadata": {},
   "outputs": [
    {
     "name": "stdout",
     "output_type": "stream",
     "text": [
      "region                  Midwest  Northeast    South     West\n",
      "customer_profile                                            \n",
      "Affluent Shopper         121496      91296   169226   130809\n",
      "General Customer        5255245    3943175  7450091  5730682\n",
      "Night Owl Shopper        524084     398685   742141   558485\n",
      "Single Budget Adult       21491      18378    34161    30204\n",
      "Weekend Family Shopper  1175536     896323  1689452  1304134\n",
      "Young Parent               9734       8415    14746    10774\n"
     ]
    }
   ],
   "source": [
    "# Check output\n",
    "print(profile_region_ct)"
   ]
  },
  {
   "cell_type": "code",
   "execution_count": 38,
   "id": "5b27e0f7-6021-4b3d-b375-28387e7be160",
   "metadata": {},
   "outputs": [
    {
     "data": {
      "image/png": "[encoded data removed]",
      "text/plain": [
       "<Figure size 1200x600 with 1 Axes>"
      ]
     },
     "metadata": {},
     "output_type": "display_data"
    }
   ],
   "source": [
    "# Creating visualistaion \n",
    "plt.figure(figsize=(12, 6))\n",
    "profile_region_ct = sns.countplot(data=df_ords_prods_all_2, x='region', hue='customer_profile', palette='pastel')\n",
    "plt.title('Customer Profiles by Region')\n",
    "plt.xlabel('Region')\n",
    "plt.ylabel('Number of Customers')\n",
    "plt.xticks(rotation=45)\n",
    "plt.tight_layout()\n",
    "plt.show()"
   ]
  },
  {
   "cell_type": "markdown",
   "id": "390718c2-3bd2-4b9b-b352-544f5f5b1bbc",
   "metadata": {},
   "source": [
    "*The General Customers profile constitutes the largest group across all regions, with the highest concentration in the South. In contrast, Affluent Shoppers represent one of the smallest customer segments overall, especially underrepresented in the Northeast region. The Weekend Family Shoppers are particularly prominent in the South, suggesting a strong presence of family-oriented households who likely shop together during weekends. Their presence is notably lower in the Northeast. Similarly, the Night Owl Shoppers, are most common in the South and least common in the Northeast, which may reflect differing lifestyle or work patterns across regions. Both Young Parents and Single Budget Adults consistently appear as minor segments across all regions, indicating that these profiles represent a relatively small portion of the customer base regardless of geographic location.*"
   ]
  },
  {
   "cell_type": "markdown",
   "id": "fab3ae41-e61a-403c-985b-106a8051c313",
   "metadata": {},
   "source": [
    "---"
   ]
  },
  {
   "cell_type": "markdown",
   "id": "1dfdd7e0-001e-4c5e-a18a-306f4fc2cab2",
   "metadata": {},
   "source": [
    "## 10. Export Final Dataset\n",
    "I export the final enriched dataset that contains regions, activity flags, and customer profiles for reporting and further analysis."
   ]
  },
  {
   "cell_type": "code",
   "execution_count": 39,
   "id": "02284d0c-e5e0-4dbe-bcc5-618376636e78",
   "metadata": {},
   "outputs": [],
   "source": [
    "# Export bar chart as a png\n",
    "profile_region_ct.figure.savefig(os.path.join(path, '04_Analysis','Visualisations', 'profile_region_ct.png'))"
   ]
  },
  {
   "cell_type": "code",
   "execution_count": 40,
   "id": "36f27466-bcd0-4a72-9b48-7f2498af2300",
   "metadata": {},
   "outputs": [],
   "source": [
    "# Export data to pkl\n",
    "df_ords_prods_all_2.to_pickle(os.path.join(path, '02_Data','Prepared Data', 'ords_prods_all_2_v2.pkl'))"
   ]
  }
 ],
 "metadata": {
  "kernelspec": {
   "display_name": "Python [conda env:base] *",
   "language": "python",
   "name": "conda-base-py"
  },
  "language_info": {
   "codemirror_mode": {
    "name": "ipython",
    "version": 3
   },
   "file_extension": ".py",
   "mimetype": "text/x-python",
   "name": "python",
   "nbconvert_exporter": "python",
   "pygments_lexer": "ipython3",
   "version": "3.12.7"
  }
 },
 "nbformat": 4,
 "nbformat_minor": 5
}

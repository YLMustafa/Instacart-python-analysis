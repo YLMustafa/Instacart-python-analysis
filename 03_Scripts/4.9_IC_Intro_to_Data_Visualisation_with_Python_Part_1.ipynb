{
 "cells": [
  {
   "cell_type": "markdown",
   "id": "b34a4d47-d84b-4483-8dac-7eaba8a8bc0b",
   "metadata": {},
   "source": [
    "# **4.9 IC Intro to Data Visualisation with Python – Part 1**\n",
    "\n",
    "# **Incorporating Customer Data into Instacart Project**\n",
    "In this notebook, I incorporate the new customer dataset into the Instacart project. I wrangle the customer data, check for inconsistencies and duplicates, and merge it with the previously prepared orders and products dataset to create a single comprehensive dataframe."
   ]
  },
  {
   "cell_type": "markdown",
   "id": "4dcb27ed-56b8-487b-b8de-39f73ccdbe53",
   "metadata": {},
   "source": [
    "## Table of Contents  \n",
    "- [1. Import Libraries](#1-import-libraries)  \n",
    "- [2. Load Data](#2-load-data)\n",
    "- [3. Wrangle Data](#3-wrangle-data)  \n",
    "- [4. Data Quality Checks](#4-data-quality-checks)  \n",
    "- [5. Merge Customer Data with Orders & Products](#5-merge-customer-data-with-orders-&-products)  \n",
    "- [6. Export Merged Data](#6-export-merged-data)"
   ]
  },
  {
   "cell_type": "markdown",
   "id": "f17bc4e7-d681-4ea1-893e-32667f8385ca",
   "metadata": {},
   "source": [
    "---"
   ]
  },
  {
   "cell_type": "markdown",
   "id": "59c328ca-5d5b-42f7-a916-5fb3eb27769f",
   "metadata": {},
   "source": [
    "## 1. Import Libraries\n",
    "I begin by importing the libraries needed for this analysis:\n",
    "- `pandas` and `numpy` for data handling and numerical operations\n",
    "- `os` for file handling"
   ]
  },
  {
   "cell_type": "code",
   "execution_count": 1,
   "id": "c11859e5-8b62-4cef-b317-072c40a0ceb6",
   "metadata": {},
   "outputs": [],
   "source": [
    "# Import libraries \n",
    "import pandas as pd\n",
    "import numpy as np\n",
    "import os"
   ]
  },
  {
   "cell_type": "markdown",
   "id": "355246ef-3af5-4c12-bd82-3634f522048b",
   "metadata": {},
   "source": [
    "---"
   ]
  },
  {
   "cell_type": "markdown",
   "id": "8d8e02ca-21f3-448a-897b-ad19b53e0508",
   "metadata": {},
   "source": [
    "## 2. Import Data\n",
    "I define the project path and import the new customer dataset into a dataframe. This will allow me to incorporate customer details into my analysis."
   ]
  },
  {
   "cell_type": "code",
   "execution_count": 2,
   "id": "f2c0ada8-a30f-4dab-8ee2-1d076c373a61",
   "metadata": {},
   "outputs": [],
   "source": [
    "# Import customer dataframe\n",
    "path = r'/Users/yaseminmustafa/Desktop/CareerFoundry/Exercise 4/15-05-2025_Instacart Basket Analysis'"
   ]
  },
  {
   "cell_type": "code",
   "execution_count": 3,
   "id": "6e8db0bb-74c4-4e46-bd5b-31117518a769",
   "metadata": {},
   "outputs": [],
   "source": [
    "df_customers = pd.read_csv(os.path.join(path,\"02_Data/Original Data/customers.csv\"), index_col = False)"
   ]
  },
  {
   "cell_type": "markdown",
   "id": "bc8f59e7-9705-4e66-80e2-ec8b122783fc",
   "metadata": {},
   "source": [
    "---"
   ]
  },
  {
   "cell_type": "markdown",
   "id": "f6cb4a09-24c7-4380-af5e-64b1974d67df",
   "metadata": {},
   "source": [
    "## 3. Wrangle Data\n",
    "The dataset has inconsistent column names. Here, I rename the columns to be more intuitive and consistent. This will make later analysis and merging with other datasets easier."
   ]
  },
  {
   "cell_type": "code",
   "execution_count": 4,
   "id": "64789c39-abb1-4dc2-a5d8-da23b55b8111",
   "metadata": {},
   "outputs": [
    {
     "data": {
      "text/html": [
       "<div>\n",
       "<style scoped>\n",
       "    .dataframe tbody tr th:only-of-type {\n",
       "        vertical-align: middle;\n",
       "    }\n",
       "\n",
       "    .dataframe tbody tr th {\n",
       "        vertical-align: top;\n",
       "    }\n",
       "\n",
       "    .dataframe thead th {\n",
       "        text-align: right;\n",
       "    }\n",
       "</style>\n",
       "<table border=\"1\" class=\"dataframe\">\n",
       "  <thead>\n",
       "    <tr style=\"text-align: right;\">\n",
       "      <th></th>\n",
       "      <th>user_id</th>\n",
       "      <th>First Name</th>\n",
       "      <th>Surnam</th>\n",
       "      <th>Gender</th>\n",
       "      <th>STATE</th>\n",
       "      <th>Age</th>\n",
       "      <th>date_joined</th>\n",
       "      <th>n_dependants</th>\n",
       "      <th>fam_status</th>\n",
       "      <th>income</th>\n",
       "    </tr>\n",
       "  </thead>\n",
       "  <tbody>\n",
       "    <tr>\n",
       "      <th>0</th>\n",
       "      <td>26711</td>\n",
       "      <td>Deborah</td>\n",
       "      <td>Esquivel</td>\n",
       "      <td>Female</td>\n",
       "      <td>Missouri</td>\n",
       "      <td>48</td>\n",
       "      <td>1/1/2017</td>\n",
       "      <td>3</td>\n",
       "      <td>married</td>\n",
       "      <td>165665</td>\n",
       "    </tr>\n",
       "    <tr>\n",
       "      <th>1</th>\n",
       "      <td>33890</td>\n",
       "      <td>Patricia</td>\n",
       "      <td>Hart</td>\n",
       "      <td>Female</td>\n",
       "      <td>New Mexico</td>\n",
       "      <td>36</td>\n",
       "      <td>1/1/2017</td>\n",
       "      <td>0</td>\n",
       "      <td>single</td>\n",
       "      <td>59285</td>\n",
       "    </tr>\n",
       "    <tr>\n",
       "      <th>2</th>\n",
       "      <td>65803</td>\n",
       "      <td>Kenneth</td>\n",
       "      <td>Farley</td>\n",
       "      <td>Male</td>\n",
       "      <td>Idaho</td>\n",
       "      <td>35</td>\n",
       "      <td>1/1/2017</td>\n",
       "      <td>2</td>\n",
       "      <td>married</td>\n",
       "      <td>99568</td>\n",
       "    </tr>\n",
       "    <tr>\n",
       "      <th>3</th>\n",
       "      <td>125935</td>\n",
       "      <td>Michelle</td>\n",
       "      <td>Hicks</td>\n",
       "      <td>Female</td>\n",
       "      <td>Iowa</td>\n",
       "      <td>40</td>\n",
       "      <td>1/1/2017</td>\n",
       "      <td>0</td>\n",
       "      <td>single</td>\n",
       "      <td>42049</td>\n",
       "    </tr>\n",
       "    <tr>\n",
       "      <th>4</th>\n",
       "      <td>130797</td>\n",
       "      <td>Ann</td>\n",
       "      <td>Gilmore</td>\n",
       "      <td>Female</td>\n",
       "      <td>Maryland</td>\n",
       "      <td>26</td>\n",
       "      <td>1/1/2017</td>\n",
       "      <td>1</td>\n",
       "      <td>married</td>\n",
       "      <td>40374</td>\n",
       "    </tr>\n",
       "  </tbody>\n",
       "</table>\n",
       "</div>"
      ],
      "text/plain": [
       "   user_id First Name    Surnam  Gender       STATE  Age date_joined  \\\n",
       "0    26711    Deborah  Esquivel  Female    Missouri   48    1/1/2017   \n",
       "1    33890   Patricia      Hart  Female  New Mexico   36    1/1/2017   \n",
       "2    65803    Kenneth    Farley    Male       Idaho   35    1/1/2017   \n",
       "3   125935   Michelle     Hicks  Female        Iowa   40    1/1/2017   \n",
       "4   130797        Ann   Gilmore  Female    Maryland   26    1/1/2017   \n",
       "\n",
       "   n_dependants fam_status  income  \n",
       "0             3    married  165665  \n",
       "1             0     single   59285  \n",
       "2             2    married   99568  \n",
       "3             0     single   42049  \n",
       "4             1    married   40374  "
      ]
     },
     "execution_count": 4,
     "metadata": {},
     "output_type": "execute_result"
    }
   ],
   "source": [
    "# Check output\n",
    "df_customers.head()"
   ]
  },
  {
   "cell_type": "code",
   "execution_count": 5,
   "id": "565e4798-954b-4bc0-9f21-be31a41a9192",
   "metadata": {},
   "outputs": [],
   "source": [
    "# Rename 'Surnam' column\n",
    "df_customers.rename(columns = {'Surnam' : 'surname'}, inplace = True)"
   ]
  },
  {
   "cell_type": "code",
   "execution_count": 6,
   "id": "12f6d8d3-8386-421d-9e9f-9df5e13da41e",
   "metadata": {},
   "outputs": [],
   "source": [
    "# Rename 'First Name' column\n",
    "df_customers.rename(columns = {'First Name' : 'first_name'}, inplace = True)"
   ]
  },
  {
   "cell_type": "code",
   "execution_count": 7,
   "id": "37d81bf9-4da2-45be-910e-2e423f610df2",
   "metadata": {},
   "outputs": [],
   "source": [
    "# Rename 'STATE' column\n",
    "df_customers.rename(columns = {'STATE' : 'state'}, inplace = True)"
   ]
  },
  {
   "cell_type": "code",
   "execution_count": 8,
   "id": "25bd6ba2-12bb-4583-8c84-77d64c8ce788",
   "metadata": {},
   "outputs": [],
   "source": [
    "# Rename 'n_dependants' column\n",
    "df_customers.rename(columns = {'n_dependants' : 'number_of_dependants'}, inplace = True)"
   ]
  },
  {
   "cell_type": "code",
   "execution_count": 9,
   "id": "b9f2a92b-c407-42fc-8526-970ce56678b8",
   "metadata": {},
   "outputs": [],
   "source": [
    "# Rename 'fam_status' column\n",
    "df_customers.rename(columns = {'fam_status' : 'family_status'}, inplace = True)"
   ]
  },
  {
   "cell_type": "code",
   "execution_count": 10,
   "id": "932547e6-fa40-425f-a8e1-d6da4c1d129a",
   "metadata": {},
   "outputs": [],
   "source": [
    "# Rename 'income' column\n",
    "df_customers.rename(columns = {'income' : 'income'}, inplace = True)"
   ]
  },
  {
   "cell_type": "code",
   "execution_count": 11,
   "id": "35dc636e-b8fb-42e4-9947-fed30aaa8fbd",
   "metadata": {},
   "outputs": [],
   "source": [
    "# Rename 'Age' column\n",
    "df_customers.rename(columns = {'Age' : 'age'}, inplace = True)"
   ]
  },
  {
   "cell_type": "code",
   "execution_count": 12,
   "id": "24208653-d094-42b2-81e5-c1613a8043de",
   "metadata": {},
   "outputs": [],
   "source": [
    "# Rename 'Gender' column\n",
    "df_customers.rename(columns = {'Gender' : 'gender'}, inplace = True)"
   ]
  },
  {
   "cell_type": "code",
   "execution_count": 13,
   "id": "476c8c12-c63d-4952-8512-ca59343cb16c",
   "metadata": {},
   "outputs": [
    {
     "data": {
      "text/html": [
       "<div>\n",
       "<style scoped>\n",
       "    .dataframe tbody tr th:only-of-type {\n",
       "        vertical-align: middle;\n",
       "    }\n",
       "\n",
       "    .dataframe tbody tr th {\n",
       "        vertical-align: top;\n",
       "    }\n",
       "\n",
       "    .dataframe thead th {\n",
       "        text-align: right;\n",
       "    }\n",
       "</style>\n",
       "<table border=\"1\" class=\"dataframe\">\n",
       "  <thead>\n",
       "    <tr style=\"text-align: right;\">\n",
       "      <th></th>\n",
       "      <th>user_id</th>\n",
       "      <th>first_name</th>\n",
       "      <th>surname</th>\n",
       "      <th>gender</th>\n",
       "      <th>state</th>\n",
       "      <th>age</th>\n",
       "      <th>date_joined</th>\n",
       "      <th>number_of_dependants</th>\n",
       "      <th>family_status</th>\n",
       "      <th>income</th>\n",
       "    </tr>\n",
       "  </thead>\n",
       "  <tbody>\n",
       "    <tr>\n",
       "      <th>0</th>\n",
       "      <td>26711</td>\n",
       "      <td>Deborah</td>\n",
       "      <td>Esquivel</td>\n",
       "      <td>Female</td>\n",
       "      <td>Missouri</td>\n",
       "      <td>48</td>\n",
       "      <td>1/1/2017</td>\n",
       "      <td>3</td>\n",
       "      <td>married</td>\n",
       "      <td>165665</td>\n",
       "    </tr>\n",
       "    <tr>\n",
       "      <th>1</th>\n",
       "      <td>33890</td>\n",
       "      <td>Patricia</td>\n",
       "      <td>Hart</td>\n",
       "      <td>Female</td>\n",
       "      <td>New Mexico</td>\n",
       "      <td>36</td>\n",
       "      <td>1/1/2017</td>\n",
       "      <td>0</td>\n",
       "      <td>single</td>\n",
       "      <td>59285</td>\n",
       "    </tr>\n",
       "    <tr>\n",
       "      <th>2</th>\n",
       "      <td>65803</td>\n",
       "      <td>Kenneth</td>\n",
       "      <td>Farley</td>\n",
       "      <td>Male</td>\n",
       "      <td>Idaho</td>\n",
       "      <td>35</td>\n",
       "      <td>1/1/2017</td>\n",
       "      <td>2</td>\n",
       "      <td>married</td>\n",
       "      <td>99568</td>\n",
       "    </tr>\n",
       "    <tr>\n",
       "      <th>3</th>\n",
       "      <td>125935</td>\n",
       "      <td>Michelle</td>\n",
       "      <td>Hicks</td>\n",
       "      <td>Female</td>\n",
       "      <td>Iowa</td>\n",
       "      <td>40</td>\n",
       "      <td>1/1/2017</td>\n",
       "      <td>0</td>\n",
       "      <td>single</td>\n",
       "      <td>42049</td>\n",
       "    </tr>\n",
       "    <tr>\n",
       "      <th>4</th>\n",
       "      <td>130797</td>\n",
       "      <td>Ann</td>\n",
       "      <td>Gilmore</td>\n",
       "      <td>Female</td>\n",
       "      <td>Maryland</td>\n",
       "      <td>26</td>\n",
       "      <td>1/1/2017</td>\n",
       "      <td>1</td>\n",
       "      <td>married</td>\n",
       "      <td>40374</td>\n",
       "    </tr>\n",
       "  </tbody>\n",
       "</table>\n",
       "</div>"
      ],
      "text/plain": [
       "   user_id first_name   surname  gender       state  age date_joined  \\\n",
       "0    26711    Deborah  Esquivel  Female    Missouri   48    1/1/2017   \n",
       "1    33890   Patricia      Hart  Female  New Mexico   36    1/1/2017   \n",
       "2    65803    Kenneth    Farley    Male       Idaho   35    1/1/2017   \n",
       "3   125935   Michelle     Hicks  Female        Iowa   40    1/1/2017   \n",
       "4   130797        Ann   Gilmore  Female    Maryland   26    1/1/2017   \n",
       "\n",
       "   number_of_dependants family_status  income  \n",
       "0                     3       married  165665  \n",
       "1                     0        single   59285  \n",
       "2                     2       married   99568  \n",
       "3                     0        single   42049  \n",
       "4                     1       married   40374  "
      ]
     },
     "execution_count": 13,
     "metadata": {},
     "output_type": "execute_result"
    }
   ],
   "source": [
    "# Check output\n",
    "df_customers.head()"
   ]
  },
  {
   "cell_type": "code",
   "execution_count": 14,
   "id": "cbafa656-44f0-44c7-82a2-ef14322dcb8b",
   "metadata": {},
   "outputs": [
    {
     "data": {
      "text/plain": [
       "(206209, 10)"
      ]
     },
     "execution_count": 14,
     "metadata": {},
     "output_type": "execute_result"
    }
   ],
   "source": [
    "# Check shape\n",
    "df_customers.shape"
   ]
  },
  {
   "cell_type": "markdown",
   "id": "755c89d6-b88d-4179-8769-2a6c95f0cc65",
   "metadata": {},
   "source": [
    "---"
   ]
  },
  {
   "cell_type": "markdown",
   "id": "e81d68e8-72d1-4018-b58c-efbf32911395",
   "metadata": {},
   "source": [
    "## 4. Data Quality Checks\n",
    "### 4a. Check for Missing Values\n",
    "\n",
    "I check for missing values to understand the completeness of the dataset. Missing values can affect analysis and need to be addressed."
   ]
  },
  {
   "cell_type": "code",
   "execution_count": 15,
   "id": "4f95b643-f5d8-4b06-88c0-bca11b270672",
   "metadata": {},
   "outputs": [
    {
     "data": {
      "text/plain": [
       "user_id                     0\n",
       "first_name              11259\n",
       "surname                     0\n",
       "gender                      0\n",
       "state                       0\n",
       "age                         0\n",
       "date_joined                 0\n",
       "number_of_dependants        0\n",
       "family_status               0\n",
       "income                      0\n",
       "dtype: int64"
      ]
     },
     "execution_count": 15,
     "metadata": {},
     "output_type": "execute_result"
    }
   ],
   "source": [
    "# Check for missing values\n",
    "df_customers.isnull().sum()"
   ]
  },
  {
   "cell_type": "markdown",
   "id": "8d74047b-6b0f-4793-8975-096a5dc9902f",
   "metadata": {},
   "source": [
    "### 4b. Check for Mixed Data Types\n",
    "I verify that each column contains consistent data types. Mixed types in a column can cause errors in analysis or calculations."
   ]
  },
  {
   "cell_type": "code",
   "execution_count": 16,
   "id": "00fb8738-062c-40df-b185-d6483b1f3629",
   "metadata": {},
   "outputs": [
    {
     "name": "stdout",
     "output_type": "stream",
     "text": [
      "first_name\n"
     ]
    }
   ],
   "source": [
    "# Check for mixed types \n",
    "for col in df_customers.columns.tolist():\n",
    "  weird = (df_customers[[col]].map(type) != df_customers[[col]].iloc[0].apply(type)).any(axis = 1)\n",
    "  if len (df_customers[weird]) > 0:\n",
    "    print (col)"
   ]
  },
  {
   "cell_type": "markdown",
   "id": "e65ea28f-3fab-4878-912e-31dae5d241d0",
   "metadata": {},
   "source": [
    "### 4c. Handle Missing Values\n",
    "The first_name column has some missing values. I replace them with 'Unknown' to maintain consistency and convert the column to string type."
   ]
  },
  {
   "cell_type": "code",
   "execution_count": 17,
   "id": "045dba5b-4839-4b24-97cc-151103556547",
   "metadata": {},
   "outputs": [
    {
     "data": {
      "text/plain": [
       "first_name\n",
       "<class 'str'>      194950\n",
       "<class 'float'>     11259\n",
       "Name: count, dtype: int64"
      ]
     },
     "execution_count": 17,
     "metadata": {},
     "output_type": "execute_result"
    }
   ],
   "source": [
    "# Inspect the types of data in 'First Name'\n",
    "df_customers['first_name'].map(type).value_counts()"
   ]
  },
  {
   "cell_type": "markdown",
   "id": "76639c08-fbca-4e25-a20b-292bb505088a",
   "metadata": {},
   "source": [
    "*This is explained by the fact that names are identified as strings e.g. 'Alice'. Missing values (e.g. NaN) are being identified as floats. Thes emising values will be replaced by the placeholder 'Unknown'.*"
   ]
  },
  {
   "cell_type": "code",
   "execution_count": 18,
   "id": "c0d46833-dba7-452b-b157-d74754e89103",
   "metadata": {},
   "outputs": [],
   "source": [
    "# Replace NaN in 'First_Name' column with placeholder 'Unknown'\n",
    "df_customers['first_name'] = df_customers['first_name'].fillna('Unknown')"
   ]
  },
  {
   "cell_type": "code",
   "execution_count": 19,
   "id": "a12e3b76-b0ae-4efe-8f7e-e5b9e2930ed9",
   "metadata": {},
   "outputs": [],
   "source": [
    "# Convert 'First_Name' column to string\n",
    "df_customers['first_name'] = df_customers['first_name'].astype(str)"
   ]
  },
  {
   "cell_type": "code",
   "execution_count": 20,
   "id": "90862571-58ef-46c2-a1f8-f5f9a73eeddd",
   "metadata": {},
   "outputs": [],
   "source": [
    "# Re-check for mixed types \n",
    "for col in df_customers.columns.tolist():\n",
    "  weird = (df_customers[[col]].map(type) != df_customers[[col]].iloc[0].apply(type)).any(axis = 1)\n",
    "  if len (df_customers[weird]) > 0:\n",
    "    print (col)"
   ]
  },
  {
   "cell_type": "code",
   "execution_count": 21,
   "id": "fa327230-8a09-46c2-8dcc-0d1b5f2235e6",
   "metadata": {},
   "outputs": [
    {
     "data": {
      "text/plain": [
       "(206209, 10)"
      ]
     },
     "execution_count": 21,
     "metadata": {},
     "output_type": "execute_result"
    }
   ],
   "source": [
    "# Check shape\n",
    "df_customers.shape"
   ]
  },
  {
   "cell_type": "markdown",
   "id": "a1d8de18-267d-432d-bbe2-9df7bdbe0ef2",
   "metadata": {},
   "source": [
    "### 4d. Check for Duplicates\n",
    "I check for duplicate rows to avoid double-counting customers in our analysis."
   ]
  },
  {
   "cell_type": "code",
   "execution_count": 22,
   "id": "3eb229c0-da9f-41e0-b586-2c8f51eb0662",
   "metadata": {},
   "outputs": [
    {
     "data": {
      "text/plain": [
       "0"
      ]
     },
     "execution_count": 22,
     "metadata": {},
     "output_type": "execute_result"
    }
   ],
   "source": [
    "# Checking for duplicates \n",
    "df_customers.duplicated().sum()"
   ]
  },
  {
   "cell_type": "markdown",
   "id": "d1497d20-681c-42be-98fb-64986821aa2d",
   "metadata": {},
   "source": [
    "---"
   ]
  },
  {
   "cell_type": "markdown",
   "id": "baaf8db7-563a-42b0-8662-7430800dd318",
   "metadata": {},
   "source": [
    "## 5. Merge Customer Data with Orders & Products\n",
    "Next, I import the prepared ords_prods_merge dataframe (which combines orders and products) and merge it with the customer dataframe on user_id. This ensures every order is linked with the correct customer details."
   ]
  },
  {
   "cell_type": "code",
   "execution_count": 23,
   "id": "3aca9138-18f4-49ac-8806-c5902fc0ed1b",
   "metadata": {},
   "outputs": [],
   "source": [
    "# Import df_ords_prods_merge\n",
    "df_ords_prods_merge = pd.read_pickle(os.path.join(path,\"02_Data/Prepared Data/ords_prods_merge_grouped.pkl\"))"
   ]
  },
  {
   "cell_type": "code",
   "execution_count": 24,
   "id": "5e1b1496-cdda-40be-93ef-91465b4e439f",
   "metadata": {},
   "outputs": [],
   "source": [
    "# Merging df_customers and df_prods_merge\n",
    "df_ords_prods_all = df_customers.merge(df_ords_prods_merge, on = 'user_id')"
   ]
  },
  {
   "cell_type": "code",
   "execution_count": 25,
   "id": "8653c46a-3615-48d5-928f-45877f207d7a",
   "metadata": {},
   "outputs": [
    {
     "data": {
      "text/html": [
       "<div>\n",
       "<style scoped>\n",
       "    .dataframe tbody tr th:only-of-type {\n",
       "        vertical-align: middle;\n",
       "    }\n",
       "\n",
       "    .dataframe tbody tr th {\n",
       "        vertical-align: top;\n",
       "    }\n",
       "\n",
       "    .dataframe thead th {\n",
       "        text-align: right;\n",
       "    }\n",
       "</style>\n",
       "<table border=\"1\" class=\"dataframe\">\n",
       "  <thead>\n",
       "    <tr style=\"text-align: right;\">\n",
       "      <th></th>\n",
       "      <th>user_id</th>\n",
       "      <th>first_name</th>\n",
       "      <th>surname</th>\n",
       "      <th>gender</th>\n",
       "      <th>state</th>\n",
       "      <th>age</th>\n",
       "      <th>date_joined</th>\n",
       "      <th>number_of_dependants</th>\n",
       "      <th>family_status</th>\n",
       "      <th>income</th>\n",
       "      <th>...</th>\n",
       "      <th>price_range_loc</th>\n",
       "      <th>busiest_day</th>\n",
       "      <th>busiest_days</th>\n",
       "      <th>busiest_period_of_day</th>\n",
       "      <th>max_order</th>\n",
       "      <th>loyalty_flag</th>\n",
       "      <th>avg_spending</th>\n",
       "      <th>spending_flag</th>\n",
       "      <th>median_order</th>\n",
       "      <th>order_frequency_flag</th>\n",
       "    </tr>\n",
       "  </thead>\n",
       "  <tbody>\n",
       "    <tr>\n",
       "      <th>0</th>\n",
       "      <td>26711</td>\n",
       "      <td>Deborah</td>\n",
       "      <td>Esquivel</td>\n",
       "      <td>Female</td>\n",
       "      <td>Missouri</td>\n",
       "      <td>48</td>\n",
       "      <td>1/1/2017</td>\n",
       "      <td>3</td>\n",
       "      <td>married</td>\n",
       "      <td>165665</td>\n",
       "      <td>...</td>\n",
       "      <td>Mid-range product</td>\n",
       "      <td>Regularly busy</td>\n",
       "      <td>Regularly busy</td>\n",
       "      <td>Average orders</td>\n",
       "      <td>8.0</td>\n",
       "      <td>New customer</td>\n",
       "      <td>8.205882</td>\n",
       "      <td>Low spender</td>\n",
       "      <td>19.0</td>\n",
       "      <td>Regular customer</td>\n",
       "    </tr>\n",
       "    <tr>\n",
       "      <th>1</th>\n",
       "      <td>26711</td>\n",
       "      <td>Deborah</td>\n",
       "      <td>Esquivel</td>\n",
       "      <td>Female</td>\n",
       "      <td>Missouri</td>\n",
       "      <td>48</td>\n",
       "      <td>1/1/2017</td>\n",
       "      <td>3</td>\n",
       "      <td>married</td>\n",
       "      <td>165665</td>\n",
       "      <td>...</td>\n",
       "      <td>Mid-range product</td>\n",
       "      <td>Regularly busy</td>\n",
       "      <td>Regularly busy</td>\n",
       "      <td>Most orders</td>\n",
       "      <td>8.0</td>\n",
       "      <td>New customer</td>\n",
       "      <td>8.205882</td>\n",
       "      <td>Low spender</td>\n",
       "      <td>19.0</td>\n",
       "      <td>Regular customer</td>\n",
       "    </tr>\n",
       "    <tr>\n",
       "      <th>2</th>\n",
       "      <td>26711</td>\n",
       "      <td>Deborah</td>\n",
       "      <td>Esquivel</td>\n",
       "      <td>Female</td>\n",
       "      <td>Missouri</td>\n",
       "      <td>48</td>\n",
       "      <td>1/1/2017</td>\n",
       "      <td>3</td>\n",
       "      <td>married</td>\n",
       "      <td>165665</td>\n",
       "      <td>...</td>\n",
       "      <td>Low-range product</td>\n",
       "      <td>Regularly busy</td>\n",
       "      <td>Regularly busy</td>\n",
       "      <td>Most orders</td>\n",
       "      <td>8.0</td>\n",
       "      <td>New customer</td>\n",
       "      <td>8.205882</td>\n",
       "      <td>Low spender</td>\n",
       "      <td>19.0</td>\n",
       "      <td>Regular customer</td>\n",
       "    </tr>\n",
       "    <tr>\n",
       "      <th>3</th>\n",
       "      <td>26711</td>\n",
       "      <td>Deborah</td>\n",
       "      <td>Esquivel</td>\n",
       "      <td>Female</td>\n",
       "      <td>Missouri</td>\n",
       "      <td>48</td>\n",
       "      <td>1/1/2017</td>\n",
       "      <td>3</td>\n",
       "      <td>married</td>\n",
       "      <td>165665</td>\n",
       "      <td>...</td>\n",
       "      <td>Mid-range product</td>\n",
       "      <td>Regularly busy</td>\n",
       "      <td>Regularly busy</td>\n",
       "      <td>Most orders</td>\n",
       "      <td>8.0</td>\n",
       "      <td>New customer</td>\n",
       "      <td>8.205882</td>\n",
       "      <td>Low spender</td>\n",
       "      <td>19.0</td>\n",
       "      <td>Regular customer</td>\n",
       "    </tr>\n",
       "    <tr>\n",
       "      <th>4</th>\n",
       "      <td>26711</td>\n",
       "      <td>Deborah</td>\n",
       "      <td>Esquivel</td>\n",
       "      <td>Female</td>\n",
       "      <td>Missouri</td>\n",
       "      <td>48</td>\n",
       "      <td>1/1/2017</td>\n",
       "      <td>3</td>\n",
       "      <td>married</td>\n",
       "      <td>165665</td>\n",
       "      <td>...</td>\n",
       "      <td>Low-range product</td>\n",
       "      <td>Regularly busy</td>\n",
       "      <td>Busiest days</td>\n",
       "      <td>Average orders</td>\n",
       "      <td>8.0</td>\n",
       "      <td>New customer</td>\n",
       "      <td>8.205882</td>\n",
       "      <td>Low spender</td>\n",
       "      <td>19.0</td>\n",
       "      <td>Regular customer</td>\n",
       "    </tr>\n",
       "  </tbody>\n",
       "</table>\n",
       "<p>5 rows × 34 columns</p>\n",
       "</div>"
      ],
      "text/plain": [
       "   user_id first_name   surname  gender     state  age date_joined  \\\n",
       "0    26711    Deborah  Esquivel  Female  Missouri   48    1/1/2017   \n",
       "1    26711    Deborah  Esquivel  Female  Missouri   48    1/1/2017   \n",
       "2    26711    Deborah  Esquivel  Female  Missouri   48    1/1/2017   \n",
       "3    26711    Deborah  Esquivel  Female  Missouri   48    1/1/2017   \n",
       "4    26711    Deborah  Esquivel  Female  Missouri   48    1/1/2017   \n",
       "\n",
       "   number_of_dependants family_status  income  ...    price_range_loc  \\\n",
       "0                     3       married  165665  ...  Mid-range product   \n",
       "1                     3       married  165665  ...  Mid-range product   \n",
       "2                     3       married  165665  ...  Low-range product   \n",
       "3                     3       married  165665  ...  Mid-range product   \n",
       "4                     3       married  165665  ...  Low-range product   \n",
       "\n",
       "      busiest_day    busiest_days  busiest_period_of_day  max_order  \\\n",
       "0  Regularly busy  Regularly busy         Average orders        8.0   \n",
       "1  Regularly busy  Regularly busy            Most orders        8.0   \n",
       "2  Regularly busy  Regularly busy            Most orders        8.0   \n",
       "3  Regularly busy  Regularly busy            Most orders        8.0   \n",
       "4  Regularly busy    Busiest days         Average orders        8.0   \n",
       "\n",
       "   loyalty_flag  avg_spending  spending_flag  median_order  \\\n",
       "0  New customer      8.205882    Low spender          19.0   \n",
       "1  New customer      8.205882    Low spender          19.0   \n",
       "2  New customer      8.205882    Low spender          19.0   \n",
       "3  New customer      8.205882    Low spender          19.0   \n",
       "4  New customer      8.205882    Low spender          19.0   \n",
       "\n",
       "  order_frequency_flag  \n",
       "0     Regular customer  \n",
       "1     Regular customer  \n",
       "2     Regular customer  \n",
       "3     Regular customer  \n",
       "4     Regular customer  \n",
       "\n",
       "[5 rows x 34 columns]"
      ]
     },
     "execution_count": 25,
     "metadata": {},
     "output_type": "execute_result"
    }
   ],
   "source": [
    "# Check output\n",
    "df_ords_prods_all.head()"
   ]
  },
  {
   "cell_type": "code",
   "execution_count": 26,
   "id": "ceb60748-1fe3-4a58-ba0e-73c02aa96555",
   "metadata": {},
   "outputs": [
    {
     "data": {
      "text/plain": [
       "(30328763, 34)"
      ]
     },
     "execution_count": 26,
     "metadata": {},
     "output_type": "execute_result"
    }
   ],
   "source": [
    "# Check shape\n",
    "df_ords_prods_all.shape"
   ]
  },
  {
   "cell_type": "markdown",
   "id": "6cb30909-ee88-4823-88b1-95abda44049c",
   "metadata": {},
   "source": [
    "## 6. Export Merged Data\n",
    "Finally, I export the merged dataframe as a pickle file. Using pickle preserves the dataframe structure and data types, which is important for the next notebook where we will create visualizations and perform further analysis."
   ]
  },
  {
   "cell_type": "code",
   "execution_count": 27,
   "id": "86b0e9e0-a294-4277-aaf9-37ad850a5b10",
   "metadata": {},
   "outputs": [],
   "source": [
    "# Export data to pkl\n",
    "df_ords_prods_all.to_pickle(os.path.join(path, '02_Data','Prepared Data', 'ords_prods_all.pkl'))"
   ]
  }
 ],
 "metadata": {
  "kernelspec": {
   "display_name": "Python [conda env:base] *",
   "language": "python",
   "name": "conda-base-py"
  },
  "language_info": {
   "codemirror_mode": {
    "name": "ipython",
    "version": 3
   },
   "file_extension": ".py",
   "mimetype": "text/x-python",
   "name": "python",
   "nbconvert_exporter": "python",
   "pygments_lexer": "ipython3",
   "version": "3.12.7"
  }
 },
 "nbformat": 4,
 "nbformat_minor": 5
}
